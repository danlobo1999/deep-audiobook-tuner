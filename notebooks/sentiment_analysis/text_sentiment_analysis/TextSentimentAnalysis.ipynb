{
 "cells": [
  {
   "cell_type": "code",
   "execution_count": 1,
   "metadata": {},
   "outputs": [],
   "source": [
    "%load_ext dotenv\n",
    "%dotenv"
   ]
  },
  {
   "cell_type": "markdown",
   "metadata": {},
   "source": [
    "## Import Dependencies"
   ]
  },
  {
   "cell_type": "code",
   "execution_count": 15,
   "metadata": {},
   "outputs": [],
   "source": [
    "import os\n",
    "import re\n",
    "import pprint\n",
    "import json\n",
    "import collections\n",
    "\n",
    "# Imports for IBM Watson's Speech to Text Transcriber\n",
    "from ibm_watson import SpeechToTextV1\n",
    "from ibm_watson.websocket import RecognizeCallback, AudioSource \n",
    "from ibm_cloud_sdk_core.authenticators import IAMAuthenticator\n",
    "\n",
    "import text2emotion as te"
   ]
  },
  {
   "cell_type": "markdown",
   "metadata": {},
   "source": [
    "# Transcription of the audio clips and detection of emotions from the transcripts"
   ]
  },
  {
   "cell_type": "markdown",
   "metadata": {},
   "source": [
    "## Setup STT Service"
   ]
  },
  {
   "cell_type": "code",
   "execution_count": 3,
   "metadata": {},
   "outputs": [],
   "source": [
    "api_key = os.getenv(\"api_key\")\n",
    "url = os.getenv(\"url\")"
   ]
  },
  {
   "cell_type": "code",
   "execution_count": 4,
   "metadata": {},
   "outputs": [],
   "source": [
    "# Setup Service\n",
    "authenticator = IAMAuthenticator(api_key)\n",
    "stt = SpeechToTextV1(authenticator=authenticator)\n",
    "stt.set_service_url(url)"
   ]
  },
  {
   "cell_type": "markdown",
   "metadata": {},
   "source": [
    "## Open Audio Clips directory and sort file names"
   ]
  },
  {
   "cell_type": "code",
   "execution_count": 5,
   "metadata": {},
   "outputs": [],
   "source": [
    "# Sorts the file names numerically\n",
    "def natural_key(string_):\n",
    "    return [int(s) if s.isdigit() else s for s in re.split(r'(\\d+)', string_)]"
   ]
  },
  {
   "cell_type": "code",
   "execution_count": 6,
   "metadata": {},
   "outputs": [],
   "source": [
    "# Enter the absolute path to the temp folder containing the clips\n",
    "folder_path = r'..\\..\\..\\assets\\temp'\n",
    "\n",
    "file_names = os.listdir(folder_path)\n",
    "\n",
    "file_names.sort(key=natural_key)\n",
    "\n",
    "results = {}"
   ]
  },
  {
   "cell_type": "markdown",
   "metadata": {},
   "source": [
    "## Transcription and Detection of Emotions"
   ]
  },
  {
   "cell_type": "code",
   "execution_count": 7,
   "metadata": {},
   "outputs": [],
   "source": [
    "# Don't run this loop with alll the clip files in the temp folder\n",
    "for file_name in file_names:\n",
    "    if file_name[-3:] == 'wav':\n",
    "\n",
    "        file = os.path.abspath(os.path.join(folder_path, file_name))\n",
    "\n",
    "        # Perform transcription\n",
    "        with open(file, 'rb') as f:\n",
    "            res = stt.recognize(audio=f, content_type='audio/wav', model='en-US_NarrowbandModel', continuous=True).get_result()\n",
    "\n",
    "        text = \"\"\n",
    "        conf = 0.0\n",
    "    \n",
    "        for i in range(len(res['results'])):\n",
    "            text += res['results'][i]['alternatives'][0]['transcript'][0:-1] + \". \"\n",
    "            conf += res['results'][i]['alternatives'][0]['confidence']\n",
    "            \n",
    "        conf = conf/len(res['results'])\n",
    "\n",
    "        emotions = te.get_emotion(text)\n",
    "        \n",
    "        final_emotion = max(emotions, key= lambda x: emotions[x])\n",
    "        \n",
    "        results[file_name] = {'Transcription': text, 'Confidence': conf, 'Emotions': emotions, 'Final_Emotion': final_emotion}"
   ]
  },
  {
   "cell_type": "code",
   "execution_count": null,
   "metadata": {
    "scrolled": false
   },
   "outputs": [],
   "source": [
    "pprint.pprint(results)"
   ]
  },
  {
   "cell_type": "code",
   "execution_count": null,
   "metadata": {
    "scrolled": false
   },
   "outputs": [],
   "source": [
    "sorted_results = collections.OrderedDict()\n",
    "\n",
    "for key in sorted(results, key=natural_key):\n",
    "    sorted_results[key] = results[key]\n",
    "    \n",
    "pprint.pprint(sorted_results)"
   ]
  },
  {
   "cell_type": "code",
   "execution_count": 17,
   "metadata": {},
   "outputs": [],
   "source": [
    "filename = r'..\\..\\..\\assets\\temp\\chapter_one_transcript_and_emotions.json'\n",
    "with open(filename, 'w') as config_file:\n",
    "        json.dump(sorted_results, config_file, indent=4)"
   ]
  },
  {
   "cell_type": "code",
   "execution_count": null,
   "metadata": {},
   "outputs": [],
   "source": []
  }
 ],
 "metadata": {
  "kernelspec": {
   "display_name": "Python 3",
   "language": "python",
   "name": "python3"
  },
  "language_info": {
   "codemirror_mode": {
    "name": "ipython",
    "version": 3
   },
   "file_extension": ".py",
   "mimetype": "text/x-python",
   "name": "python",
   "nbconvert_exporter": "python",
   "pygments_lexer": "ipython3",
   "version": "3.8.8"
  }
 },
 "nbformat": 4,
 "nbformat_minor": 4
}
