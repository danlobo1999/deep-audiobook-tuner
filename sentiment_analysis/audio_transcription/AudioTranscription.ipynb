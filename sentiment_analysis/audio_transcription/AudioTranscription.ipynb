{
 "cells": [
  {
   "cell_type": "markdown",
   "metadata": {
    "id": "j2KyvpMrhh-a"
   },
   "source": [
    "# Speech-to-text with Mozilla DeepSpeech"
   ]
  },
  {
   "cell_type": "markdown",
   "metadata": {
    "id": "Q3f7R50rkv6C"
   },
   "source": [
    "https://www.slanglabs.in/blog/how-to-build-python-transcriber-using-mozilla-deepspeech"
   ]
  },
  {
   "cell_type": "markdown",
   "metadata": {},
   "source": [
    "### Imports"
   ]
  },
  {
   "cell_type": "code",
   "execution_count": 9,
   "metadata": {
    "colab": {
     "base_uri": "https://localhost:8080/"
    },
    "id": "92_imI82YEHu",
    "outputId": "1fc91a77-d8ba-4e18-f7d6-7f6b111b9e4c"
   },
   "outputs": [],
   "source": [
    "import deepspeech\n",
    "import numpy as np\n",
    "import os\n",
    "import time\n",
    "import librosa"
   ]
  },
  {
   "cell_type": "code",
   "execution_count": 2,
   "metadata": {
    "id": "xlG8pbUvYc7e"
   },
   "outputs": [],
   "source": [
    "paths = {'model': '../../assets/audio_transcription/deepspeech-0.6.0-models',\n",
    "         'audiobooks': '../../assets/audiobooks'}"
   ]
  },
  {
   "cell_type": "code",
   "execution_count": 3,
   "metadata": {
    "colab": {
     "base_uri": "https://localhost:8080/"
    },
    "id": "P8xdrf9_YosZ",
    "outputId": "54599919-e440-4ba5-c1ed-0f5cd8178a12"
   },
   "outputs": [
    {
     "data": {
      "text/plain": [
       "0"
      ]
     },
     "execution_count": 3,
     "metadata": {},
     "output_type": "execute_result"
    }
   ],
   "source": [
    "model_file_path = f\"{paths['model']}/output_graph.pbmm\"\n",
    "beam_width = 500\n",
    "model = deepspeech.Model(model_file_path, beam_width)\n",
    "\n",
    "# Add language model for better accuracy\n",
    "lm_file_path = f\"{paths['model']}//lm.binary\"\n",
    "trie_file_path = f\"{paths['model']}/trie\"\n",
    "lm_alpha = 0.75\n",
    "lm_beta = 1.85\n",
    "model.enableDecoderWithLM(lm_file_path, trie_file_path, lm_alpha, lm_beta)"
   ]
  },
  {
   "cell_type": "code",
   "execution_count": 13,
   "metadata": {
    "colab": {
     "base_uri": "https://localhost:8080/"
    },
    "id": "NAk1-Z_9Y2BO",
    "outputId": "526a765a-7dac-4fec-8008-f61021f79268"
   },
   "outputs": [],
   "source": [
    "filename = f\"{paths['audiobooks']}/T4.wav\"\n",
    "\n",
    "y, sr = librosa.load(filename, res_type='kaiser_fast', sr=16000)\n",
    "int16 = y*32767\n",
    "int16 = int16.astype(np.int16)"
   ]
  },
  {
   "cell_type": "code",
   "execution_count": 12,
   "metadata": {
    "colab": {
     "base_uri": "https://localhost:8080/"
    },
    "id": "LEdky1HDbn4u",
    "outputId": "5b713367-b341-4634-f226-dcbabcba12fa"
   },
   "outputs": [
    {
     "name": "stdout",
     "output_type": "stream",
     "text": [
      "time:  21.71934223175049\n",
      "alison wonderland by lewis carroll chapter one down the rabbit hole alice was beginning to get very tired of sitting by her sister on the bank and of having nothing to do once or twice she had peeped into the book her sister was reading but it had no pictures or conversations in it and what is the use of a book thought alice without pictures or conversation so she was considering in her own mind as well as she\n"
     ]
    }
   ],
   "source": [
    "start_time = time.time()\n",
    "text = model.stt(int16)\n",
    "print('time: ', time.time()-start_time)\n",
    "print(text)"
   ]
  },
  {
   "cell_type": "code",
   "execution_count": null,
   "metadata": {},
   "outputs": [],
   "source": []
  }
 ],
 "metadata": {
  "colab": {
   "collapsed_sections": [],
   "name": "Mozilla_DeepSpeech.ipynb",
   "provenance": []
  },
  "kernelspec": {
   "display_name": "deepspeech",
   "language": "python",
   "name": "deepspeech"
  },
  "language_info": {
   "codemirror_mode": {
    "name": "ipython",
    "version": 3
   },
   "file_extension": ".py",
   "mimetype": "text/x-python",
   "name": "python",
   "nbconvert_exporter": "python",
   "pygments_lexer": "ipython3",
   "version": "3.6.13"
  }
 },
 "nbformat": 4,
 "nbformat_minor": 1
}