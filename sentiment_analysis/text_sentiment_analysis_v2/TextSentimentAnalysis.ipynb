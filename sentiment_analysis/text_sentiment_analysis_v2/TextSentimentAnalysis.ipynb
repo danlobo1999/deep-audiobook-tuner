{
 "cells": [
  {
   "cell_type": "markdown",
   "metadata": {},
   "source": [
    "### Imports"
   ]
  },
  {
   "cell_type": "code",
   "execution_count": 1,
   "metadata": {
    "id": "FYJa3hJiYnWP"
   },
   "outputs": [],
   "source": [
    "import ktrain\n",
    "from ktrain import text\n",
    "import numpy as np\n",
    "import pandas as pd\n",
    "import tensorflow as tf\n",
    "import time "
   ]
  },
  {
   "cell_type": "markdown",
   "metadata": {},
   "source": [
    "### Enable GPU usage for Tensorflow"
   ]
  },
  {
   "cell_type": "code",
   "execution_count": 2,
   "metadata": {},
   "outputs": [],
   "source": [
    "physical_devices = tf.config.list_physical_devices('GPU')\n",
    "tf.config.experimental.set_memory_growth(physical_devices[0], enable=True)"
   ]
  },
  {
   "cell_type": "markdown",
   "metadata": {},
   "source": [
    "### Paths"
   ]
  },
  {
   "cell_type": "code",
   "execution_count": 3,
   "metadata": {},
   "outputs": [],
   "source": [
    "paths = {'dataset': '../../assets/text_sentiment_data/datasets',\n",
    "         'models': '../../assets/text_sentiment_data/models'}"
   ]
  },
  {
   "cell_type": "markdown",
   "metadata": {},
   "source": [
    "### Load the dataset"
   ]
  },
  {
   "cell_type": "code",
   "execution_count": 24,
   "metadata": {
    "colab": {
     "base_uri": "https://localhost:8080/",
     "height": 483
    },
    "id": "xGRw5awSX7mZ",
    "outputId": "d27124ef-3926-423b-b86b-be537c2ca346"
   },
   "outputs": [],
   "source": [
    "data_train = pd.read_csv(f'{paths[\"dataset\"]}/mydata_train.csv', encoding='utf-8')\n",
    "data_test = pd.read_csv(f'{paths[\"dataset\"]}/mydata_test.csv', encoding='utf-8')"
   ]
  },
  {
   "cell_type": "markdown",
   "metadata": {},
   "source": [
    "### Exploring the data"
   ]
  },
  {
   "cell_type": "code",
   "execution_count": 25,
   "metadata": {},
   "outputs": [],
   "source": [
    "data_train.loc[data_train['Emotion'] == 'joy', 'Emotion'] = 'happy'\n",
    "data_train.loc[data_train['Emotion'] == 'sadness', 'Emotion'] = 'sad'\n",
    "data_train.loc[data_train['Emotion'] == 'anger', 'Emotion'] = 'angry'\n",
    "\n",
    "data_test.loc[data_test['Emotion'] == 'joy', 'Emotion'] = 'happy'\n",
    "data_test.loc[data_test['Emotion'] == 'sadness', 'Emotion'] = 'sad'\n",
    "data_test.loc[data_test['Emotion'] == 'anger', 'Emotion'] = 'angry'"
   ]
  },
  {
   "cell_type": "code",
   "execution_count": 26,
   "metadata": {},
   "outputs": [
    {
     "output_type": "execute_result",
     "data": {
      "text/plain": [
       "     Emotion                                               Text\n",
       "0        sad           When my girlfriend's nephew passed away.\n",
       "1      angry  When my sister lost my favourite jumper at a p...\n",
       "2      happy   I'd be delighted to , John . Saturday did you...\n",
       "3      angry  ` No , \" she replied briefly , feeling more an...\n",
       "4      happy                    Sure.Where would you suggest ? \n",
       "...      ...                                                ...\n",
       "6362     sad  It 's been our experience that families , and ...\n",
       "6363   angry  I felt angry when my friend told me that I had...\n",
       "6364   angry  I had made an error in planning a programme an...\n",
       "6365   happy  Nevertheless , your father ( and mother , too ...\n",
       "6366   happy  When there was a possibility of getting on bet...\n",
       "\n",
       "[6367 rows x 2 columns]"
      ],
      "text/html": "<div>\n<style scoped>\n    .dataframe tbody tr th:only-of-type {\n        vertical-align: middle;\n    }\n\n    .dataframe tbody tr th {\n        vertical-align: top;\n    }\n\n    .dataframe thead th {\n        text-align: right;\n    }\n</style>\n<table border=\"1\" class=\"dataframe\">\n  <thead>\n    <tr style=\"text-align: right;\">\n      <th></th>\n      <th>Emotion</th>\n      <th>Text</th>\n    </tr>\n  </thead>\n  <tbody>\n    <tr>\n      <th>0</th>\n      <td>sad</td>\n      <td>When my girlfriend's nephew passed away.</td>\n    </tr>\n    <tr>\n      <th>1</th>\n      <td>angry</td>\n      <td>When my sister lost my favourite jumper at a p...</td>\n    </tr>\n    <tr>\n      <th>2</th>\n      <td>happy</td>\n      <td>I'd be delighted to , John . Saturday did you...</td>\n    </tr>\n    <tr>\n      <th>3</th>\n      <td>angry</td>\n      <td>` No , \" she replied briefly , feeling more an...</td>\n    </tr>\n    <tr>\n      <th>4</th>\n      <td>happy</td>\n      <td>Sure.Where would you suggest ?</td>\n    </tr>\n    <tr>\n      <th>...</th>\n      <td>...</td>\n      <td>...</td>\n    </tr>\n    <tr>\n      <th>6362</th>\n      <td>sad</td>\n      <td>It 's been our experience that families , and ...</td>\n    </tr>\n    <tr>\n      <th>6363</th>\n      <td>angry</td>\n      <td>I felt angry when my friend told me that I had...</td>\n    </tr>\n    <tr>\n      <th>6364</th>\n      <td>angry</td>\n      <td>I had made an error in planning a programme an...</td>\n    </tr>\n    <tr>\n      <th>6365</th>\n      <td>happy</td>\n      <td>Nevertheless , your father ( and mother , too ...</td>\n    </tr>\n    <tr>\n      <th>6366</th>\n      <td>happy</td>\n      <td>When there was a possibility of getting on bet...</td>\n    </tr>\n  </tbody>\n</table>\n<p>6367 rows × 2 columns</p>\n</div>"
     },
     "metadata": {},
     "execution_count": 26
    }
   ],
   "source": [
    "data_train"
   ]
  },
  {
   "cell_type": "code",
   "execution_count": 27,
   "metadata": {},
   "outputs": [
    {
     "output_type": "execute_result",
     "data": {
      "text/plain": [
       "      Emotion                                               Text\n",
       "0         sad                         That ’ s a lot of money . \n",
       "1     neutral                           I can't open the door . \n",
       "2         sad   Well in the meantime you are a biohazard ! I ...\n",
       "3       angry  Thus if a particularly irate husband pronounce...\n",
       "4       angry  And she was furious that Mr Clarke did not bre...\n",
       "...       ...                                                ...\n",
       "2710    happy  After a long time (of no communication with hi...\n",
       "2711    angry   Then stay away . Nobody's keeping you from do...\n",
       "2712    happy   Yes . I have . I liked it very much . Like yo...\n",
       "2713    happy  When I was pressing figures on the curtain clo...\n",
       "2714  neutral  The music is on.May I have the pleasure to dan...\n",
       "\n",
       "[2715 rows x 2 columns]"
      ],
      "text/html": "<div>\n<style scoped>\n    .dataframe tbody tr th:only-of-type {\n        vertical-align: middle;\n    }\n\n    .dataframe tbody tr th {\n        vertical-align: top;\n    }\n\n    .dataframe thead th {\n        text-align: right;\n    }\n</style>\n<table border=\"1\" class=\"dataframe\">\n  <thead>\n    <tr style=\"text-align: right;\">\n      <th></th>\n      <th>Emotion</th>\n      <th>Text</th>\n    </tr>\n  </thead>\n  <tbody>\n    <tr>\n      <th>0</th>\n      <td>sad</td>\n      <td>That ’ s a lot of money .</td>\n    </tr>\n    <tr>\n      <th>1</th>\n      <td>neutral</td>\n      <td>I can't open the door .</td>\n    </tr>\n    <tr>\n      <th>2</th>\n      <td>sad</td>\n      <td>Well in the meantime you are a biohazard ! I ...</td>\n    </tr>\n    <tr>\n      <th>3</th>\n      <td>angry</td>\n      <td>Thus if a particularly irate husband pronounce...</td>\n    </tr>\n    <tr>\n      <th>4</th>\n      <td>angry</td>\n      <td>And she was furious that Mr Clarke did not bre...</td>\n    </tr>\n    <tr>\n      <th>...</th>\n      <td>...</td>\n      <td>...</td>\n    </tr>\n    <tr>\n      <th>2710</th>\n      <td>happy</td>\n      <td>After a long time (of no communication with hi...</td>\n    </tr>\n    <tr>\n      <th>2711</th>\n      <td>angry</td>\n      <td>Then stay away . Nobody's keeping you from do...</td>\n    </tr>\n    <tr>\n      <th>2712</th>\n      <td>happy</td>\n      <td>Yes . I have . I liked it very much . Like yo...</td>\n    </tr>\n    <tr>\n      <th>2713</th>\n      <td>happy</td>\n      <td>When I was pressing figures on the curtain clo...</td>\n    </tr>\n    <tr>\n      <th>2714</th>\n      <td>neutral</td>\n      <td>The music is on.May I have the pleasure to dan...</td>\n    </tr>\n  </tbody>\n</table>\n<p>2715 rows × 2 columns</p>\n</div>"
     },
     "metadata": {},
     "execution_count": 27
    }
   ],
   "source": [
    "data_test"
   ]
  },
  {
   "cell_type": "code",
   "execution_count": 31,
   "metadata": {},
   "outputs": [
    {
     "output_type": "stream",
     "name": "stdout",
     "text": [
      "size of training set: 6367\nsize of validation set: 2715\nhappy      2326\nangry      2259\nneutral    2254\nsad        2243\nName: Emotion, dtype: int64\n"
     ]
    },
    {
     "output_type": "execute_result",
     "data": {
      "text/plain": [
       "   Emotion                                               Text\n",
       "0      sad           When my girlfriend's nephew passed away.\n",
       "1    angry  When my sister lost my favourite jumper at a p...\n",
       "2    happy   I'd be delighted to , John . Saturday did you...\n",
       "3    angry  ` No , \" she replied briefly , feeling more an...\n",
       "4    happy                    Sure.Where would you suggest ? \n",
       "5    angry  When my room-mates were watching video-tapes a...\n",
       "6    happy         I can't believe they would play so good . \n",
       "7    happy                                        Last night \n",
       "8    angry  When I came back to my hostel, my bed was full...\n",
       "9  neutral                                      I did that . "
      ],
      "text/html": "<div>\n<style scoped>\n    .dataframe tbody tr th:only-of-type {\n        vertical-align: middle;\n    }\n\n    .dataframe tbody tr th {\n        vertical-align: top;\n    }\n\n    .dataframe thead th {\n        text-align: right;\n    }\n</style>\n<table border=\"1\" class=\"dataframe\">\n  <thead>\n    <tr style=\"text-align: right;\">\n      <th></th>\n      <th>Emotion</th>\n      <th>Text</th>\n    </tr>\n  </thead>\n  <tbody>\n    <tr>\n      <th>0</th>\n      <td>sad</td>\n      <td>When my girlfriend's nephew passed away.</td>\n    </tr>\n    <tr>\n      <th>1</th>\n      <td>angry</td>\n      <td>When my sister lost my favourite jumper at a p...</td>\n    </tr>\n    <tr>\n      <th>2</th>\n      <td>happy</td>\n      <td>I'd be delighted to , John . Saturday did you...</td>\n    </tr>\n    <tr>\n      <th>3</th>\n      <td>angry</td>\n      <td>` No , \" she replied briefly , feeling more an...</td>\n    </tr>\n    <tr>\n      <th>4</th>\n      <td>happy</td>\n      <td>Sure.Where would you suggest ?</td>\n    </tr>\n    <tr>\n      <th>5</th>\n      <td>angry</td>\n      <td>When my room-mates were watching video-tapes a...</td>\n    </tr>\n    <tr>\n      <th>6</th>\n      <td>happy</td>\n      <td>I can't believe they would play so good .</td>\n    </tr>\n    <tr>\n      <th>7</th>\n      <td>happy</td>\n      <td>Last night</td>\n    </tr>\n    <tr>\n      <th>8</th>\n      <td>angry</td>\n      <td>When I came back to my hostel, my bed was full...</td>\n    </tr>\n    <tr>\n      <th>9</th>\n      <td>neutral</td>\n      <td>I did that .</td>\n    </tr>\n  </tbody>\n</table>\n</div>"
     },
     "metadata": {},
     "execution_count": 31
    }
   ],
   "source": [
    "X_train = data_train.Text.tolist()\n",
    "X_test = data_test.Text.tolist()\n",
    "\n",
    "y_train = data_train.Emotion.tolist()\n",
    "y_test = data_test.Emotion.tolist()\n",
    "\n",
    "data = data_train.append(data_test, ignore_index=True)\n",
    "\n",
    "class_names = ['angry', 'happy', 'neutral', 'sad']\n",
    "\n",
    "print('size of training set: %s' % (len(data_train['Text'])))\n",
    "print('size of validation set: %s' % (len(data_test['Text'])))\n",
    "print(data.Emotion.value_counts())\n",
    "\n",
    "data.head(10)"
   ]
  },
  {
   "cell_type": "markdown",
   "metadata": {},
   "source": [
    "### Encoding the emotion classes"
   ]
  },
  {
   "cell_type": "code",
   "execution_count": 32,
   "metadata": {
    "id": "gBxd1kYYYnWU"
   },
   "outputs": [],
   "source": [
    "encoding = {\n",
    "    'angry': 0,\n",
    "    'happy': 1,\n",
    "    'neutral': 2,\n",
    "    'sad': 3\n",
    "}\n",
    "\n",
    "y_train = [encoding[x] for x in y_train]\n",
    "y_test = [encoding[x] for x in y_test]"
   ]
  },
  {
   "cell_type": "markdown",
   "metadata": {},
   "source": [
    "### Preparing the train and test sets"
   ]
  },
  {
   "cell_type": "code",
   "execution_count": 33,
   "metadata": {
    "colab": {
     "base_uri": "https://localhost:8080/",
     "height": 300
    },
    "id": "IQnZnKQmZA3U",
    "outputId": "6ae3f801-5ce4-4759-b90f-3b6138538d72"
   },
   "outputs": [
    {
     "output_type": "stream",
     "name": "stdout",
     "text": [
      "preprocessing train...\nlanguage: en\n"
     ]
    },
    {
     "output_type": "display_data",
     "data": {
      "text/plain": "<IPython.core.display.HTML object>",
      "text/html": "\n    <div>\n        <style>\n            /* Turns off some styling */\n            progress {\n                /* gets rid of default border in Firefox and Opera. */\n                border: none;\n                /* Needs to be in here for Safari polyfill so background images work as expected. */\n                background-size: auto;\n            }\n            .progress-bar-interrupted, .progress-bar-interrupted::-webkit-progress-bar {\n                background: #F44336;\n            }\n        </style>\n      <progress value='0' class='' max='1' style='width:300px; height:20px; vertical-align: middle;'></progress>\n      \n    </div>\n    \n"
     },
     "metadata": {}
    },
    {
     "output_type": "stream",
     "name": "stdout",
     "text": [
      "Is Multi-Label? False\npreprocessing test...\nlanguage: en\n"
     ]
    },
    {
     "output_type": "display_data",
     "data": {
      "text/plain": "<IPython.core.display.HTML object>",
      "text/html": "\n    <div>\n        <style>\n            /* Turns off some styling */\n            progress {\n                /* gets rid of default border in Firefox and Opera. */\n                border: none;\n                /* Needs to be in here for Safari polyfill so background images work as expected. */\n                background-size: auto;\n            }\n            .progress-bar-interrupted, .progress-bar-interrupted::-webkit-progress-bar {\n                background: #F44336;\n            }\n        </style>\n      <progress value='0' class='' max='1' style='width:300px; height:20px; vertical-align: middle;'></progress>\n      \n    </div>\n    \n"
     },
     "metadata": {}
    },
    {
     "output_type": "stream",
     "name": "stdout",
     "text": [
      "task: text classification\n"
     ]
    }
   ],
   "source": [
    "(x_train,  y_train), (x_test, y_test), preproc = text.texts_from_array(x_train=X_train, y_train=y_train,\n",
    "                                                                       x_test=X_test, y_test=y_test,\n",
    "                                                                       class_names=class_names,\n",
    "                                                                       preprocess_mode='bert',\n",
    "                                                                       maxlen=350, \n",
    "                                                                       max_features=35000)"
   ]
  },
  {
   "cell_type": "markdown",
   "metadata": {},
   "source": [
    "### Creating the model and the learner"
   ]
  },
  {
   "cell_type": "code",
   "execution_count": 34,
   "metadata": {
    "colab": {
     "base_uri": "https://localhost:8080/"
    },
    "id": "1cGb2CaOZBNS",
    "outputId": "064d064d-3259-4787-a8e8-8cbe27986b29"
   },
   "outputs": [
    {
     "output_type": "stream",
     "name": "stdout",
     "text": [
      "Is Multi-Label? False\n",
      "maxlen is 350\n",
      "done.\n"
     ]
    }
   ],
   "source": [
    "model = text.text_classifier('bert', train_data=(x_train, y_train), preproc=preproc)"
   ]
  },
  {
   "cell_type": "code",
   "execution_count": 35,
   "metadata": {
    "id": "zu8uv-xKYnWc"
   },
   "outputs": [],
   "source": [
    "learner = ktrain.get_learner(model, train_data=(x_train, y_train), \n",
    "                             val_data=(x_test, y_test),\n",
    "                             batch_size=4)"
   ]
  },
  {
   "cell_type": "markdown",
   "metadata": {},
   "source": [
    "### Training"
   ]
  },
  {
   "cell_type": "code",
   "execution_count": 36,
   "metadata": {
    "colab": {
     "base_uri": "https://localhost:8080/"
    },
    "id": "jD-2RpgkZN_n",
    "outputId": "32411c94-2d6b-4b92-c44c-3506dae2f6d5",
    "scrolled": true
   },
   "outputs": [
    {
     "output_type": "stream",
     "name": "stdout",
     "text": [
      "\n",
      "\n",
      "begin training using onecycle policy with max lr of 2e-05...\n",
      "Epoch 1/3\n",
      "1592/1592 [==============================] - 1250s 760ms/step - loss: 1.0261 - accuracy: 0.5507 - val_loss: 0.5127 - val_accuracy: 0.8188\n",
      "Epoch 2/3\n",
      "1592/1592 [==============================] - 1117s 702ms/step - loss: 0.3945 - accuracy: 0.8573 - val_loss: 0.4979 - val_accuracy: 0.8298\n",
      "Epoch 3/3\n",
      "1592/1592 [==============================] - 1100s 691ms/step - loss: 0.1842 - accuracy: 0.9429 - val_loss: 0.5374 - val_accuracy: 0.8361\n"
     ]
    },
    {
     "output_type": "execute_result",
     "data": {
      "text/plain": [
       "<tensorflow.python.keras.callbacks.History at 0x14fbdf316a0>"
      ]
     },
     "metadata": {},
     "execution_count": 36
    }
   ],
   "source": [
    "learner.fit_onecycle(2e-5, 3)"
   ]
  },
  {
   "cell_type": "markdown",
   "metadata": {},
   "source": [
    "### Validation"
   ]
  },
  {
   "cell_type": "code",
   "execution_count": 37,
   "metadata": {
    "colab": {
     "base_uri": "https://localhost:8080/"
    },
    "id": "2s4ao_e2i4ld",
    "outputId": "eaa1e59c-eda8-4e21-e6a8-1e629576e71b"
   },
   "outputs": [
    {
     "output_type": "stream",
     "name": "stdout",
     "text": [
      "              precision    recall  f1-score   support\n\n       angry       0.84      0.82      0.83       693\n       happy       0.88      0.85      0.86       707\n     neutral       0.79      0.86      0.82       638\n         sad       0.83      0.82      0.83       677\n\n    accuracy                           0.84      2715\n   macro avg       0.84      0.84      0.84      2715\nweighted avg       0.84      0.84      0.84      2715\n\n"
     ]
    },
    {
     "output_type": "execute_result",
     "data": {
      "text/plain": [
       "array([[570,  18,  38,  67],\n",
       "       [ 19, 599,  72,  17],\n",
       "       [ 30,  36, 546,  26],\n",
       "       [ 63,  27,  32, 555]], dtype=int64)"
      ]
     },
     "metadata": {},
     "execution_count": 37
    }
   ],
   "source": [
    "learner.validate(val_data=(x_test, y_test), class_names=class_names)"
   ]
  },
  {
   "cell_type": "code",
   "execution_count": 38,
   "metadata": {
    "colab": {
     "base_uri": "https://localhost:8080/"
    },
    "id": "6eDpFIoXjlE8",
    "outputId": "a986b646-7520-45c3-ae3b-acf935e9e2ab"
   },
   "outputs": [],
   "source": [
    "predictor = ktrain.get_predictor(learner.model, preproc)\n",
    "classes = predictor.get_classes()"
   ]
  },
  {
   "cell_type": "markdown",
   "metadata": {},
   "source": [
    "### Saving the model"
   ]
  },
  {
   "cell_type": "code",
   "execution_count": 39,
   "metadata": {},
   "outputs": [],
   "source": [
    "predictor.save(f\"{paths['models']}/bert_model_2\")"
   ]
  },
  {
   "cell_type": "markdown",
   "metadata": {},
   "source": [
    "### Loading the model"
   ]
  },
  {
   "cell_type": "code",
   "execution_count": 40,
   "metadata": {},
   "outputs": [
    {
     "output_type": "execute_result",
     "data": {
      "text/plain": [
       "['angry', 'happy', 'neutral', 'sad']"
      ]
     },
     "metadata": {},
     "execution_count": 40
    }
   ],
   "source": [
    "predictor = ktrain.load_predictor(f\"{paths['models']}/bert_model_2\")\n",
    "classes = predictor.get_classes()\n",
    "classes"
   ]
  },
  {
   "cell_type": "markdown",
   "metadata": {},
   "source": [
    "### Testing the model"
   ]
  },
  {
   "cell_type": "code",
   "execution_count": 41,
   "metadata": {},
   "outputs": [
    {
     "output_type": "execute_result",
     "data": {
      "text/plain": [
       "28"
      ]
     },
     "metadata": {},
     "execution_count": 41
    }
   ],
   "source": [
    "message =\"For this curious child was very fond of pretending to be two people. But it's no use now thought poor Alice to pretend to be two people why there's hardly enough of me left to make one respectable person. Soon her eye fell on the little glass box that was lying under the table she opened it and found in it a very small cake on which the words eat me were beautifully marked in currants. Well I'll eat it said Alice and if.\"\n",
    "message = message.split(' ')\n",
    "splitlen = len(message)//3\n",
    "splitlen"
   ]
  },
  {
   "cell_type": "code",
   "execution_count": 42,
   "metadata": {},
   "outputs": [],
   "source": [
    "splitmsg = []\n",
    "split = 0\n",
    "for i in range(2):\n",
    "    splitmsg.append(message[split:split+splitlen])\n",
    "    split = split+splitlen\n",
    "splitmsg.append(message[split::])"
   ]
  },
  {
   "cell_type": "code",
   "execution_count": 43,
   "metadata": {},
   "outputs": [
    {
     "output_type": "execute_result",
     "data": {
      "text/plain": [
       "[\"For this curious child was very fond of pretending to be two people. But it's no use now thought poor Alice to pretend to be two people why\",\n",
       " \"there's hardly enough of me left to make one respectable person. Soon her eye fell on the little glass box that was lying under the table she opened\",\n",
       " \"it and found in it a very small cake on which the words eat me were beautifully marked in currants. Well I'll eat it said Alice and if.\"]"
      ]
     },
     "metadata": {},
     "execution_count": 43
    }
   ],
   "source": [
    "splitsent= []\n",
    "for i in range(len(splitmsg)):\n",
    "    sentence = \" \".join(splitmsg[i])\n",
    "    splitsent.append(sentence)\n",
    "splitsent"
   ]
  },
  {
   "cell_type": "code",
   "execution_count": 44,
   "metadata": {
    "colab": {
     "base_uri": "https://localhost:8080/"
    },
    "id": "w5KQfwX8xLLu",
    "outputId": "64bc03bc-66be-4a61-e69d-3beaa536f8c9"
   },
   "outputs": [
    {
     "output_type": "stream",
     "name": "stdout",
     "text": [
      "predicted: [0.19706903 0.04027015 0.26506022 0.49760056] (6.10)\n",
      "Emotion = sad\n",
      "predicted: [0.01453719 0.6345863  0.13332759 0.21754897] (0.11)\n",
      "Emotion = happy\n",
      "predicted: [0.02694552 0.9272913  0.01635365 0.02940957] (0.11)\n",
      "Emotion = happy\n"
     ]
    }
   ],
   "source": [
    "start_time = time.time()\n",
    "finpredval = []\n",
    "for i in range(len(splitsent)):\n",
    "    start_time = time.time() \n",
    "    prediction = predictor.predict(splitsent[i], return_proba=True)\n",
    "    finpredval.append(prediction)\n",
    "    \n",
    "    print('predicted: {} ({:.2f})'.format(prediction, (time.time() - start_time)))\n",
    "    print(f\"Emotion = {classes[prediction.argmax()]}\")"
   ]
  },
  {
   "cell_type": "code",
   "execution_count": 45,
   "metadata": {},
   "outputs": [
    {
     "output_type": "execute_result",
     "data": {
      "text/plain": [
       "[array([0.19706903, 0.04027015, 0.26506022, 0.49760056], dtype=float32),\n",
       " array([0.01453719, 0.6345863 , 0.13332759, 0.21754897], dtype=float32),\n",
       " array([0.02694552, 0.9272913 , 0.01635365, 0.02940957], dtype=float32)]"
      ]
     },
     "metadata": {},
     "execution_count": 45
    }
   ],
   "source": [
    "finpredval"
   ]
  },
  {
   "cell_type": "code",
   "execution_count": 46,
   "metadata": {},
   "outputs": [
    {
     "output_type": "execute_result",
     "data": {
      "text/plain": [
       "array([0.07951725, 0.5340492 , 0.13824715, 0.24818636], dtype=float32)"
      ]
     },
     "metadata": {},
     "execution_count": 46
    }
   ],
   "source": [
    "finpredval1 = np.sum(finpredval , axis = 0) / 3\n",
    "finpredval1"
   ]
  },
  {
   "cell_type": "code",
   "execution_count": 47,
   "metadata": {},
   "outputs": [
    {
     "output_type": "execute_result",
     "data": {
      "text/plain": [
       "'happy'"
      ]
     },
     "metadata": {},
     "execution_count": 47
    }
   ],
   "source": [
    "finpred = classes[finpredval1.argmax()]\n",
    "finpred"
   ]
  },
  {
   "cell_type": "code",
   "execution_count": null,
   "metadata": {},
   "outputs": [],
   "source": []
  }
 ],
 "metadata": {
  "accelerator": "GPU",
  "colab": {
   "collapsed_sections": [],
   "name": "Bert.ipynb",
   "provenance": [],
   "toc_visible": true
  },
  "kernelspec": {
   "display_name": "deepaudiobooktuner",
   "language": "python",
   "name": "deepaudiobooktuner"
  },
  "language_info": {
   "codemirror_mode": {
    "name": "ipython",
    "version": 3
   },
   "file_extension": ".py",
   "mimetype": "text/x-python",
   "name": "python",
   "nbconvert_exporter": "python",
   "pygments_lexer": "ipython3",
   "version": "3.8.8-final"
  }
 },
 "nbformat": 4,
 "nbformat_minor": 1
}