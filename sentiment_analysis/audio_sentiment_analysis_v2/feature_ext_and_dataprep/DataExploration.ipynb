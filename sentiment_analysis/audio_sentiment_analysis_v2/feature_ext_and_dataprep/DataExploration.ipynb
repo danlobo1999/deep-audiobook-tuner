{
 "cells": [
  {
   "cell_type": "markdown",
   "metadata": {},
   "source": [
    "## Imports"
   ]
  },
  {
   "cell_type": "code",
   "execution_count": 1,
   "metadata": {},
   "outputs": [],
   "source": [
    "import librosa\n",
    "import pandas as pd\n",
    "import numpy as np\n",
    "import os"
   ]
  },
  {
   "cell_type": "markdown",
   "metadata": {},
   "source": [
    "## Paths"
   ]
  },
  {
   "cell_type": "code",
   "execution_count": 2,
   "metadata": {},
   "outputs": [],
   "source": [
    "paths = {\"datasets\": \"../../../assets/audio_sentiment_data_v2/datasets\", \n",
    "         \"save_path\": \"../../../assets/audio_sentiment_data_v2/data_features\"}\n",
    "\n",
    "RAV = f\"{paths['datasets']}/ravdess-emotional-speech-audio/\"\n",
    "SAVEE = f\"{paths['datasets']}/surrey-audiovisual-expressed-emotion-savee/ALL/\"\n",
    "TESS = f\"{paths['datasets']}/toronto-emotional-speech-set-tess/\""
   ]
  },
  {
   "cell_type": "markdown",
   "metadata": {},
   "source": [
    "## Filtering the datasets based on the required emotions"
   ]
  },
  {
   "cell_type": "markdown",
   "metadata": {},
   "source": [
    "### SAVEE Dataset"
   ]
  },
  {
   "cell_type": "code",
   "execution_count": 3,
   "metadata": {
    "scrolled": true
   },
   "outputs": [
    {
     "data": {
      "text/plain": [
       "neutral    120\n",
       "happy       60\n",
       "angry       60\n",
       "sad         60\n",
       "Name: labels, dtype: int64"
      ]
     },
     "execution_count": 3,
     "metadata": {},
     "output_type": "execute_result"
    }
   ],
   "source": [
    "dir_list = os.listdir(SAVEE)\n",
    "emotion=[]\n",
    "path = []\n",
    "\n",
    "sad = 0\n",
    "fear = 0\n",
    "happy = 0\n",
    "surprise = 0\n",
    "\n",
    "for i in dir_list:\n",
    "    if i[-8:-6]=='_a':\n",
    "        emotion.append('angry')\n",
    "        path.append(SAVEE + i)\n",
    "    elif i[-8:-6]=='_f' and fear < 30:\n",
    "        emotion.append('sad')\n",
    "        path.append(SAVEE + i)\n",
    "        fear += 1\n",
    "    elif i[-8:-6]=='_h' and happy < 45:\n",
    "        emotion.append('happy')\n",
    "        path.append(SAVEE + i)\n",
    "        happy += 1\n",
    "    elif i[-8:-6]=='sa' and sad < 30:\n",
    "        emotion.append('sad')\n",
    "        path.append(SAVEE + i)\n",
    "        sad += 1\n",
    "    elif i[-8:-6]=='su' and surprise < 15:\n",
    "        emotion.append('happy')\n",
    "        path.append(SAVEE + i)\n",
    "        surprise += 1\n",
    "    elif i[-8:-6]=='_n':\n",
    "        emotion.append('neutral')\n",
    "        path.append(SAVEE + i)\n",
    "    \n",
    "# Now check out the label count distribution \n",
    "SAVEE_df = pd.DataFrame(emotion, columns = ['labels'])\n",
    "SAVEE_df['source'] = 'SAVEE'\n",
    "SAVEE_df = pd.concat([SAVEE_df, pd.DataFrame(path, columns = ['path'])], axis = 1)\n",
    "SAVEE_df.labels.value_counts()"
   ]
  },
  {
   "cell_type": "markdown",
   "metadata": {},
   "source": [
    "### RAVDESS Dataset"
   ]
  },
  {
   "cell_type": "code",
   "execution_count": 4,
   "metadata": {},
   "outputs": [
    {
     "data": {
      "text/plain": [
       "angry      192\n",
       "sad        192\n",
       "happy      192\n",
       "neutral     96\n",
       "Name: labels, dtype: int64"
      ]
     },
     "execution_count": 4,
     "metadata": {},
     "output_type": "execute_result"
    }
   ],
   "source": [
    "dir_list = os.listdir(RAV)\n",
    "dir_list.sort()\n",
    "\n",
    "emotion = []\n",
    "path = []\n",
    "\n",
    "sad = 0\n",
    "fear = 0\n",
    "happy = 0\n",
    "surprise = 0\n",
    "\n",
    "for i in dir_list:\n",
    "    fname = os.listdir(RAV + i)\n",
    "    for f in fname:\n",
    "        part = f.split('.')[0].split('-')\n",
    "        if part[2] not in ['02','07']:\n",
    "            if part[2] == '04' and sad < 96:\n",
    "                emotion.append(int(part[2]))\n",
    "                path.append(RAV + i + '/' + f)\n",
    "                sad += 1\n",
    "                \n",
    "            elif part[2] == '06' and fear < 96:\n",
    "                emotion.append(int(part[2]))\n",
    "                path.append(RAV + i + '/' + f)\n",
    "                fear += 1\n",
    "                \n",
    "            elif part[2] == '03' and happy < 144:\n",
    "                emotion.append(int(part[2]))\n",
    "                path.append(RAV + i + '/' + f)\n",
    "                happy += 1\n",
    "            \n",
    "            elif part[2] == '08' and surprise < 48:\n",
    "                emotion.append(int(part[2]))\n",
    "                path.append(RAV + i + '/' + f)\n",
    "                surprise += 1\n",
    "                \n",
    "            elif part[2] == '01':\n",
    "                emotion.append(int(part[2]))\n",
    "                path.append(RAV + i + '/' + f)\n",
    "                \n",
    "            elif part[2] == '05':\n",
    "                emotion.append(int(part[2]))\n",
    "                path.append(RAV + i + '/' + f)\n",
    "\n",
    "RAV_df = pd.DataFrame(emotion)\n",
    "RAV_df = RAV_df.replace({1: 'neutral', 3:'happy', 4:'sad', 5:'angry', 6:'sad', 8:'happy'})\n",
    "RAV_df.columns = ['emotion']\n",
    "RAV_df['labels'] = RAV_df.emotion\n",
    "RAV_df['source'] = 'RAVDESS'\n",
    "RAV_df = pd.concat([RAV_df,pd.DataFrame(path, columns = ['path'])],axis=1)\n",
    "RAV_df = RAV_df.drop(['emotion'], axis=1)\n",
    "RAV_df.labels.value_counts()"
   ]
  },
  {
   "cell_type": "markdown",
   "metadata": {},
   "source": [
    "### TESS Dataset"
   ]
  },
  {
   "cell_type": "code",
   "execution_count": 6,
   "metadata": {},
   "outputs": [
    {
     "data": {
      "text/plain": [
       "neutral    400\n",
       "sad        400\n",
       "angry      400\n",
       "happy      400\n",
       "Name: labels, dtype: int64"
      ]
     },
     "execution_count": 6,
     "metadata": {},
     "output_type": "execute_result"
    }
   ],
   "source": [
    "dir_list = os.listdir(TESS)\n",
    "dir_list.sort()\n",
    "\n",
    "path = []\n",
    "emotion = []\n",
    "\n",
    "sad = 0\n",
    "fear = 0\n",
    "happy = 0\n",
    "surprise = 0\n",
    "\n",
    "for i in dir_list:\n",
    "    fname = os.listdir(TESS + i)\n",
    "    for f in fname:\n",
    "        if i == 'OAF_angry' or i == 'YAF_angry':\n",
    "            emotion.append('angry')\n",
    "            path.append(TESS + i + \"/\" + f)\n",
    "            \n",
    "        elif (i == 'OAF_Fear' or i == 'YAF_fear') and fear < 200:\n",
    "            emotion.append('sad')\n",
    "            path.append(TESS + i + \"/\" + f)\n",
    "            fear += 1\n",
    "            \n",
    "        elif (i == 'OAF_happy' or i == 'YAF_happy') and happy < 300:\n",
    "            emotion.append('happy')\n",
    "            path.append(TESS + i + \"/\" + f)\n",
    "            happy += 1\n",
    "            \n",
    "        elif (i == 'OAF_Pleasant_surprise' or i == 'YAF_pleasant_surprised') and surprise < 100:\n",
    "            emotion.append('happy')            \n",
    "            path.append(TESS + i + \"/\" + f)\n",
    "            surprise += 1\n",
    "            \n",
    "        elif (i == 'OAF_Sad' or i == 'YAF_sad') and sad < 200:\n",
    "            emotion.append('sad')\n",
    "            path.append(TESS + i + \"/\" + f)\n",
    "            sad += 1\n",
    "            \n",
    "        elif i == 'OAF_neutral' or i == 'YAF_neutral':\n",
    "            emotion.append('neutral')\n",
    "            path.append(TESS + i + \"/\" + f)\n",
    "        \n",
    "TESS_df = pd.DataFrame(emotion, columns = ['labels'])\n",
    "TESS_df['source'] = 'TESS'\n",
    "TESS_df = pd.concat([TESS_df,pd.DataFrame(path, columns = ['path'])],axis=1)\n",
    "TESS_df.labels.value_counts()"
   ]
  },
  {
   "cell_type": "markdown",
   "metadata": {},
   "source": [
    "## Saving the file paths"
   ]
  },
  {
   "cell_type": "code",
   "execution_count": 7,
   "metadata": {},
   "outputs": [
    {
     "name": "stdout",
     "output_type": "stream",
     "text": [
      "sad        652\n",
      "angry      652\n",
      "happy      652\n",
      "neutral    616\n",
      "Name: labels, dtype: int64\n"
     ]
    }
   ],
   "source": [
    "df = pd.concat([SAVEE_df, RAV_df, TESS_df], axis = 0)\n",
    "print(df.labels.value_counts())\n",
    "df.head()\n",
    "df.to_csv(f\"{paths['save_path']}/data_paths_final.csv\",index=False)"
   ]
  },
  {
   "cell_type": "code",
   "execution_count": null,
   "metadata": {},
   "outputs": [],
   "source": []
  }
 ],
 "metadata": {
  "kernelspec": {
   "display_name": "beprojtest",
   "language": "python",
   "name": "beprojtest"
  },
  "language_info": {
   "codemirror_mode": {
    "name": "ipython",
    "version": 3
   },
   "file_extension": ".py",
   "mimetype": "text/x-python",
   "name": "python",
   "nbconvert_exporter": "python",
   "pygments_lexer": "ipython3",
   "version": "3.8.8"
  }
 },
 "nbformat": 4,
 "nbformat_minor": 4
}
