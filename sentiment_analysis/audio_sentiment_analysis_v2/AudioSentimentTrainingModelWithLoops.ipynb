{
 "cells": [
  {
   "cell_type": "markdown",
   "metadata": {},
   "source": [
    "## Imports"
   ]
  },
  {
   "cell_type": "code",
   "execution_count": 1,
   "metadata": {},
   "outputs": [],
   "source": [
    "import tensorflow as tf\n",
    "from tensorflow.keras.models import Sequential\n",
    "from tensorflow.keras.layers import Dropout, Activation, Flatten, MaxPooling1D\n",
    "from tensorflow.keras.layers import Conv1D, Dense\n",
    "from tensorflow.keras.callbacks import TensorBoard, ModelCheckpoint\n",
    "from kerastuner import HyperModel\n",
    "from kerastuner.tuners import Hyperband\n",
    "from kerastuner.tuners import RandomSearch\n",
    "from sklearn.metrics import classification_report\n",
    "import matplotlib.pyplot as plt\n",
    "import numpy as np\n",
    "import pandas as pd\n",
    "import seaborn as sns\n",
    "import pickle\n",
    "import time"
   ]
  },
  {
   "cell_type": "markdown",
   "metadata": {},
   "source": [
    "### Enables Tensorflow to use the GPU"
   ]
  },
  {
   "cell_type": "code",
   "execution_count": 2,
   "metadata": {},
   "outputs": [],
   "source": [
    "physical_devices = tf.config.experimental.list_physical_devices('GPU')\n",
    "if len(physical_devices) > 0:\n",
    "   tf.config.experimental.set_memory_growth(physical_devices[0], True)"
   ]
  },
  {
   "cell_type": "markdown",
   "metadata": {},
   "source": [
    "## Paths"
   ]
  },
  {
   "cell_type": "code",
   "execution_count": 3,
   "metadata": {},
   "outputs": [],
   "source": [
    "paths = {\"pickels\": \"../../assets/audio_sentiment_data_v2/pickles\",\n",
    "         \"models\": \"../../assets/audio_sentiment_data_v2/models\",\n",
    "         \"tuners\": \"../../assets/audio_sentiment_data_v2/tuners\"}"
   ]
  },
  {
   "cell_type": "markdown",
   "metadata": {},
   "source": [
    "## Loading in the data splits from the pickels"
   ]
  },
  {
   "cell_type": "code",
   "execution_count": 4,
   "metadata": {},
   "outputs": [],
   "source": [
    "pickle_in = open(f\"{paths['pickels']}/X_train_19_april.pickle\",\"rb\")\n",
    "X_train = pickle.load(pickle_in)\n",
    "\n",
    "pickle_in = open(f\"{paths['pickels']}/X_val_19_april.pickle\",\"rb\")\n",
    "X_val = pickle.load(pickle_in)\n",
    "\n",
    "pickle_in = open(f\"{paths['pickels']}/X_test_19_april.pickle\",\"rb\")\n",
    "X_test = pickle.load(pickle_in)\n",
    "\n",
    "pickle_in = open(f\"{paths['pickels']}/y_train_19_april.pickle\",\"rb\")\n",
    "y_train = pickle.load(pickle_in)\n",
    "\n",
    "pickle_in = open(f\"{paths['pickels']}/y_val_19_april.pickle\",\"rb\")\n",
    "y_val = pickle.load(pickle_in)\n",
    "\n",
    "pickle_in = open(f\"{paths['pickels']}/y_test_19_april.pickle\",\"rb\")\n",
    "y_test = pickle.load(pickle_in)\n",
    "\n",
    "pickle_in = open(f\"{paths['pickels']}/labels_19_april.pickle\",\"rb\")\n",
    "lb= pickle.load(pickle_in)\n",
    "labels = lb.classes_"
   ]
  },
  {
   "cell_type": "markdown",
   "metadata": {},
   "source": [
    "## Defining the Model using HyperModel Class to perform hyperparameters tuning"
   ]
  },
  {
   "cell_type": "code",
   "execution_count": 5,
   "metadata": {},
   "outputs": [],
   "source": [
    "class CNNHyperModel(HyperModel):\n",
    "    \n",
    "    def __init__(self, input_shape, num_classes):\n",
    "        self.input_shape = input_shape\n",
    "        self.num_classes = num_classes\n",
    "        \n",
    "    def build(self, hp):\n",
    "        model = Sequential()\n",
    "        \n",
    "        model.add(\n",
    "                Dense(\n",
    "                    units=hp.Int(\n",
    "                        'dense_units_0',\n",
    "                        min_value=32,\n",
    "                        max_value=512,\n",
    "                        step=32,\n",
    "                        default=32\n",
    "                    ),\n",
    "                    activation='relu',\n",
    "                    input_shape=self.input_shape\n",
    "                )\n",
    "            )\n",
    "        \n",
    "        model.add(\n",
    "                Dropout(rate=hp.Float(\n",
    "                    f'dropout_0',\n",
    "                    min_value=0.0,\n",
    "                    max_value=0.5,\n",
    "                    default=0.25,\n",
    "                    step=0.05,\n",
    "                ))\n",
    "            )\n",
    "        \n",
    "        for i in range(hp.Int('num_layers', 0, 5)):\n",
    "            model.add(\n",
    "                Dense(\n",
    "                    units=hp.Int(\n",
    "                        f'dense_units_{i+1}',\n",
    "                        min_value=32,\n",
    "                        max_value=512,\n",
    "                        step=32,\n",
    "                        default=32\n",
    "                    ),\n",
    "                    activation='relu'\n",
    "                )\n",
    "            )\n",
    "\n",
    "            model.add(\n",
    "                Dropout(rate=hp.Float(\n",
    "                    f'dropout_{i+1}',\n",
    "                    min_value=0.0,\n",
    "                    max_value=0.5,\n",
    "                    default=0.25,\n",
    "                    step=0.05,\n",
    "                ))\n",
    "            )\n",
    "        \n",
    "        model.add(Dense(self.num_classes, activation='softmax'))\n",
    "        \n",
    "\n",
    "        model.compile(\n",
    "            optimizer=tf.keras.optimizers.RMSprop(\n",
    "                hp.Float(\n",
    "                    'learning_rate',\n",
    "                    min_value=1e-4,\n",
    "                    max_value=1e-2,\n",
    "                    sampling='LOG',\n",
    "                    default=1e-3\n",
    "                )\n",
    "            ),\n",
    "            loss='categorical_crossentropy',\n",
    "            metrics=['accuracy']\n",
    "        )\n",
    "        return model       "
   ]
  },
  {
   "cell_type": "markdown",
   "metadata": {},
   "source": [
    "---\n",
    "\n",
    "# Hyperband Tuning\n",
    "\n",
    "\n",
    "## Creating an instance of the HyperModel Class"
   ]
  },
  {
   "cell_type": "code",
   "execution_count": 6,
   "metadata": {},
   "outputs": [],
   "source": [
    "NUM_CLASSES = 4\n",
    "INPUT_SHAPE = (37,)\n",
    "\n",
    "hypermodel = CNNHyperModel(input_shape=INPUT_SHAPE,\n",
    "                           num_classes=NUM_CLASSES)"
   ]
  },
  {
   "cell_type": "markdown",
   "metadata": {},
   "source": [
    "## Defining the Hyperband Tuner"
   ]
  },
  {
   "cell_type": "code",
   "execution_count": 7,
   "metadata": {},
   "outputs": [],
   "source": [
    "SEED = 42\n",
    "\n",
    "hb_tuner = Hyperband(\n",
    "    hypermodel,\n",
    "    objective='val_accuracy',\n",
    "    max_epochs=40,\n",
    "    hyperband_iterations=2,\n",
    "    seed=SEED,\n",
    "    directory=f'{paths[\"tuners\"]}/hyperband_tuner',\n",
    "    project_name='AudioSentimentClassifier19April'\n",
    ")"
   ]
  },
  {
   "cell_type": "markdown",
   "metadata": {},
   "source": [
    "### Searching for the best model"
   ]
  },
  {
   "cell_type": "code",
   "execution_count": 8,
   "metadata": {
    "scrolled": false
   },
   "outputs": [
    {
     "name": "stdout",
     "output_type": "stream",
     "text": [
      "Trial 180 Complete [00h 00m 07s]\n",
      "val_accuracy: 0.8779220581054688\n",
      "\n",
      "Best val_accuracy So Far: 0.9220778942108154\n",
      "Total elapsed time: 00h 13m 24s\n",
      "INFO:tensorflow:Oracle triggered exit\n"
     ]
    }
   ],
   "source": [
    "stop_early = tf.keras.callbacks.EarlyStopping(monitor='val_loss', patience=5)\n",
    "\n",
    "hb_tuner.search(X_train,\n",
    "                y_train,\n",
    "                validation_data=(X_val, y_val),\n",
    "                epochs=40,\n",
    "                callbacks=[stop_early]\n",
    "               )"
   ]
  },
  {
   "cell_type": "markdown",
   "metadata": {},
   "source": [
    "### Retrieving the best model"
   ]
  },
  {
   "cell_type": "code",
   "execution_count": 9,
   "metadata": {
    "scrolled": false
   },
   "outputs": [
    {
     "name": "stdout",
     "output_type": "stream",
     "text": [
      "Model: \"sequential\"\n",
      "_________________________________________________________________\n",
      "Layer (type)                 Output Shape              Param #   \n",
      "=================================================================\n",
      "dense (Dense)                (None, 320)               12160     \n",
      "_________________________________________________________________\n",
      "dropout (Dropout)            (None, 320)               0         \n",
      "_________________________________________________________________\n",
      "dense_1 (Dense)              (None, 224)               71904     \n",
      "_________________________________________________________________\n",
      "dropout_1 (Dropout)          (None, 224)               0         \n",
      "_________________________________________________________________\n",
      "dense_2 (Dense)              (None, 512)               115200    \n",
      "_________________________________________________________________\n",
      "dropout_2 (Dropout)          (None, 512)               0         \n",
      "_________________________________________________________________\n",
      "dense_3 (Dense)              (None, 416)               213408    \n",
      "_________________________________________________________________\n",
      "dropout_3 (Dropout)          (None, 416)               0         \n",
      "_________________________________________________________________\n",
      "dense_4 (Dense)              (None, 4)                 1668      \n",
      "=================================================================\n",
      "Total params: 414,340\n",
      "Trainable params: 414,340\n",
      "Non-trainable params: 0\n",
      "_________________________________________________________________\n"
     ]
    }
   ],
   "source": [
    "best_hb_model = hb_tuner.get_best_models(num_models=1)[0]\n",
    "best_hb_hps = hb_tuner.get_best_hyperparameters(num_trials=1)[0]\n",
    "best_hb_model.summary()"
   ]
  },
  {
   "cell_type": "code",
   "execution_count": 10,
   "metadata": {},
   "outputs": [
    {
     "name": "stdout",
     "output_type": "stream",
     "text": [
      "9/9 [==============================] - 0s 3ms/step - loss: 0.2902 - accuracy: 0.8735\n"
     ]
    },
    {
     "data": {
      "text/plain": [
       "[0.2953105568885803, 0.8643410801887512]"
      ]
     },
     "execution_count": 10,
     "metadata": {},
     "output_type": "execute_result"
    }
   ],
   "source": [
    "best_hb_model.evaluate(X_test, y_test)"
   ]
  },
  {
   "cell_type": "markdown",
   "metadata": {},
   "source": [
    "### Training a model on the best hyperparameters"
   ]
  },
  {
   "cell_type": "code",
   "execution_count": 29,
   "metadata": {
    "scrolled": true
   },
   "outputs": [],
   "source": [
    "hb_model = hb_tuner.hypermodel.build(best_hb_hps)"
   ]
  },
  {
   "cell_type": "code",
   "execution_count": 30,
   "metadata": {
    "scrolled": false
   },
   "outputs": [
    {
     "name": "stdout",
     "output_type": "stream",
     "text": [
      "Epoch 1/15\n",
      "61/61 - 1s - loss: 0.7176 - accuracy: 0.7024 - val_loss: 0.4738 - val_accuracy: 0.8026\n",
      "Epoch 2/15\n",
      "61/61 - 0s - loss: 0.4173 - accuracy: 0.8300 - val_loss: 0.3955 - val_accuracy: 0.8208\n",
      "Epoch 3/15\n",
      "61/61 - 0s - loss: 0.3664 - accuracy: 0.8419 - val_loss: 0.4146 - val_accuracy: 0.8286\n",
      "Epoch 4/15\n",
      "61/61 - 0s - loss: 0.3279 - accuracy: 0.8543 - val_loss: 0.3561 - val_accuracy: 0.8312\n",
      "Epoch 5/15\n",
      "61/61 - 0s - loss: 0.2957 - accuracy: 0.8740 - val_loss: 0.2973 - val_accuracy: 0.8571\n",
      "Epoch 6/15\n",
      "61/61 - 0s - loss: 0.2751 - accuracy: 0.8870 - val_loss: 0.3870 - val_accuracy: 0.8312\n",
      "Epoch 7/15\n",
      "61/61 - 0s - loss: 0.2611 - accuracy: 0.8870 - val_loss: 0.3544 - val_accuracy: 0.8286\n",
      "Epoch 8/15\n",
      "61/61 - 0s - loss: 0.2491 - accuracy: 0.8963 - val_loss: 0.3125 - val_accuracy: 0.8675\n",
      "Epoch 9/15\n",
      "61/61 - 0s - loss: 0.2248 - accuracy: 0.9067 - val_loss: 0.2956 - val_accuracy: 0.8805\n",
      "Epoch 10/15\n",
      "61/61 - 0s - loss: 0.2144 - accuracy: 0.9119 - val_loss: 0.3099 - val_accuracy: 0.8519\n",
      "Epoch 11/15\n",
      "61/61 - 0s - loss: 0.2076 - accuracy: 0.9186 - val_loss: 0.3132 - val_accuracy: 0.8727\n",
      "Epoch 12/15\n",
      "61/61 - 0s - loss: 0.1830 - accuracy: 0.9285 - val_loss: 0.2395 - val_accuracy: 0.8935\n",
      "Epoch 13/15\n",
      "61/61 - 0s - loss: 0.1784 - accuracy: 0.9248 - val_loss: 0.3533 - val_accuracy: 0.8753\n",
      "Epoch 14/15\n",
      "61/61 - 0s - loss: 0.1828 - accuracy: 0.9238 - val_loss: 0.2985 - val_accuracy: 0.8753\n",
      "Epoch 15/15\n",
      "61/61 - 0s - loss: 0.1617 - accuracy: 0.9373 - val_loss: 0.3429 - val_accuracy: 0.8753\n"
     ]
    }
   ],
   "source": [
    "hb_history = hb_model.fit(X_train, y_train, epochs=15, validation_data=(X_val, y_val), verbose=2)"
   ]
  },
  {
   "cell_type": "markdown",
   "metadata": {},
   "source": [
    "### Plotting Loss and Accuracy graphs"
   ]
  },
  {
   "cell_type": "code",
   "execution_count": 31,
   "metadata": {},
   "outputs": [
    {
     "data": {
      "image/png": "[encoded data removed]",
      "text/plain": [
       "<Figure size 432x288 with 1 Axes>"
      ]
     },
     "metadata": {
      "needs_background": "light"
     },
     "output_type": "display_data"
    }
   ],
   "source": [
    "train_loss = hb_history.history['loss']\n",
    "val_loss = hb_history.history['val_loss']\n",
    "\n",
    "plt.plot(train_loss, 'g', label='Training loss')\n",
    "plt.plot(val_loss, 'b', label='Validation loss')\n",
    "plt.title('Training and Validation loss')\n",
    "plt.xlabel('Epochs')\n",
    "plt.ylabel('Loss')\n",
    "plt.legend()\n",
    "plt.show()"
   ]
  },
  {
   "cell_type": "code",
   "execution_count": 32,
   "metadata": {
    "scrolled": true
   },
   "outputs": [
    {
     "data": {
      "image/png": "[encoded data removed]",
      "text/plain": [
       "<Figure size 432x288 with 1 Axes>"
      ]
     },
     "metadata": {
      "needs_background": "light"
     },
     "output_type": "display_data"
    }
   ],
   "source": [
    "train_acc = hb_history.history['accuracy']\n",
    "val_acc = hb_history.history['val_accuracy']\n",
    "\n",
    "plt.plot(train_acc, 'g', label='Training accuracy')\n",
    "plt.plot(val_acc, 'b', label='Validation accuracy')\n",
    "plt.title('Training and Validation accuracy')\n",
    "plt.xlabel('Epochs')\n",
    "plt.ylabel('Loss')\n",
    "plt.legend()\n",
    "plt.show()"
   ]
  },
  {
   "cell_type": "markdown",
   "metadata": {},
   "source": [
    "### Evaluating the tuned model"
   ]
  },
  {
   "cell_type": "code",
   "execution_count": 33,
   "metadata": {
    "scrolled": true
   },
   "outputs": [
    {
     "name": "stdout",
     "output_type": "stream",
     "text": [
      "9/9 [==============================] - 0s 3ms/step - loss: 0.3624 - accuracy: 0.8721\n"
     ]
    }
   ],
   "source": [
    "test_accuracy = hb_model.evaluate(X_test, y_test)"
   ]
  },
  {
   "cell_type": "markdown",
   "metadata": {},
   "source": [
    "### Classification report"
   ]
  },
  {
   "cell_type": "code",
   "execution_count": 34,
   "metadata": {},
   "outputs": [
    {
     "name": "stdout",
     "output_type": "stream",
     "text": [
      "              precision    recall  f1-score   support\n",
      "\n",
      "           0       0.78      1.00      0.87        62\n",
      "           1       0.94      0.78      0.85        59\n",
      "           2       0.89      0.95      0.92        66\n",
      "           3       0.93      0.76      0.84        71\n",
      "\n",
      "    accuracy                           0.87       258\n",
      "   macro avg       0.88      0.87      0.87       258\n",
      "weighted avg       0.88      0.87      0.87       258\n",
      "\n"
     ]
    }
   ],
   "source": [
    "predictions = hb_model.predict(X_test)\n",
    "predictions = np.argmax(predictions, axis=1)\n",
    "\n",
    "new_y_test = np.argmax(y_test, axis=1)\n",
    "\n",
    "print(classification_report(new_y_test, predictions))"
   ]
  },
  {
   "cell_type": "markdown",
   "metadata": {},
   "source": [
    "### Confusion matrix"
   ]
  },
  {
   "cell_type": "code",
   "execution_count": 35,
   "metadata": {},
   "outputs": [
    {
     "data": {
      "text/plain": [
       "<AxesSubplot:xlabel='Predicted', ylabel='Actual'>"
      ]
     },
     "execution_count": 35,
     "metadata": {},
     "output_type": "execute_result"
    },
    {
     "data": {
      "image/png": "[encoded data removed]",
      "text/plain": [
       "<Figure size 576x432 with 2 Axes>"
      ]
     },
     "metadata": {
      "needs_background": "light"
     },
     "output_type": "display_data"
    }
   ],
   "source": [
    "%matplotlib inline\n",
    "conf_matrix = pd.DataFrame(tf.math.confusion_matrix(new_y_test, predictions).numpy(), index=labels, columns=labels)\n",
    "conf_matrix.index.name = 'Actual'\n",
    "conf_matrix.columns.name = 'Predicted'\n",
    "fig_dims = (8, 6)\n",
    "fig, ax = plt.subplots(figsize=fig_dims)\n",
    "sns.heatmap(conf_matrix, annot=True, cmap=\"Blues\", annot_kws={\"size\": 16}, fmt='d')"
   ]
  },
  {
   "cell_type": "markdown",
   "metadata": {},
   "source": [
    "### Saving the tuned model"
   ]
  },
  {
   "cell_type": "code",
   "execution_count": 36,
   "metadata": {},
   "outputs": [
    {
     "name": "stdout",
     "output_type": "stream",
     "text": [
      "INFO:tensorflow:Assets written to: ../../assets/audio_sentiment_data_v2/models/hyperband_tuned_model_19_april_[0.3624165654182434, 0.8720930218696594]\\assets\n"
     ]
    }
   ],
   "source": [
    "name = f\"hyperband_tuned_model_19_april_{test_accuracy}\"\n",
    "filepath = f\"{paths['models']}/{name}\"\n",
    "hb_model.save(filepath)"
   ]
  },
  {
   "cell_type": "markdown",
   "metadata": {},
   "source": [
    "---\n",
    "\n",
    "# Random Search Tuning\n",
    "\n",
    "\n",
    "## Creating an instance of the HyperModel Class"
   ]
  },
  {
   "cell_type": "code",
   "execution_count": null,
   "metadata": {},
   "outputs": [],
   "source": [
    "NUM_CLASSES = 5\n",
    "INPUT_SHAPE = (37,)\n",
    "\n",
    "hypermodel = CNNHyperModel(input_shape=INPUT_SHAPE,\n",
    "                           num_classes=NUM_CLASSES)"
   ]
  },
  {
   "cell_type": "markdown",
   "metadata": {},
   "source": [
    "## Defining the RandomSearch Tuner"
   ]
  },
  {
   "cell_type": "code",
   "execution_count": null,
   "metadata": {},
   "outputs": [],
   "source": [
    "SEED = 42\n",
    "\n",
    "rs_tuner = RandomSearch(\n",
    "    hypermodel,\n",
    "    objective='val_accuracy',\n",
    "    max_trials=50,\n",
    "    executions_per_trial=2,\n",
    "    directory=f'{paths[\"tuners\"]}/random_search_tuner',\n",
    "    project_name='AudioSentimentClassifier'\n",
    ")"
   ]
  },
  {
   "cell_type": "markdown",
   "metadata": {},
   "source": [
    "### Searching for the best model"
   ]
  },
  {
   "cell_type": "code",
   "execution_count": null,
   "metadata": {
    "scrolled": false
   },
   "outputs": [],
   "source": [
    "rs_tuner.search(X_train,\n",
    "                y_train,\n",
    "                validation_data=(X_val, y_val),\n",
    "                epochs=30)"
   ]
  },
  {
   "cell_type": "markdown",
   "metadata": {},
   "source": [
    "### Retrieving the best model"
   ]
  },
  {
   "cell_type": "code",
   "execution_count": null,
   "metadata": {
    "scrolled": false
   },
   "outputs": [],
   "source": [
    "best_model = rs_tuner.get_best_models(num_models=1)[0]\n",
    "best_hps = rs_tuner.get_best_hyperparameters(num_trials=1)[0]\n",
    "best_model.summary()"
   ]
  },
  {
   "cell_type": "code",
   "execution_count": null,
   "metadata": {},
   "outputs": [],
   "source": [
    "best_model.evaluate(X_test, y_test)"
   ]
  },
  {
   "cell_type": "markdown",
   "metadata": {},
   "source": [
    "### Training a model on the best hyperparameters"
   ]
  },
  {
   "cell_type": "code",
   "execution_count": null,
   "metadata": {
    "scrolled": true
   },
   "outputs": [],
   "source": [
    "model = rs_tuner.hypermodel.build(best_hps)"
   ]
  },
  {
   "cell_type": "code",
   "execution_count": null,
   "metadata": {},
   "outputs": [],
   "source": [
    "history = model.fit(X_train, y_train, epochs=20, validation_data=(X_val, y_val), verbose=2)"
   ]
  },
  {
   "cell_type": "markdown",
   "metadata": {},
   "source": [
    "### Plotting Loss and Accuracy graphs"
   ]
  },
  {
   "cell_type": "code",
   "execution_count": null,
   "metadata": {},
   "outputs": [],
   "source": [
    "train_loss = history.history['loss']\n",
    "val_loss = history.history['val_loss']\n",
    "\n",
    "plt.plot(train_loss, 'g', label='Training loss')\n",
    "plt.plot(val_loss, 'b', label='Validation loss')\n",
    "plt.title('Training and Validation loss')\n",
    "plt.xlabel('Epochs')\n",
    "plt.ylabel('Loss')\n",
    "plt.legend()\n",
    "\n",
    "plt.show()"
   ]
  },
  {
   "cell_type": "code",
   "execution_count": null,
   "metadata": {
    "scrolled": false
   },
   "outputs": [],
   "source": [
    "train_acc = history.history['accuracy']\n",
    "val_acc = history.history['val_accuracy']\n",
    "\n",
    "plt.plot(train_acc, 'g', label='Training accuracy')\n",
    "plt.plot(val_acc, 'b', label='Validation accuracy')\n",
    "plt.title('Training and Validation accuracy')\n",
    "plt.xlabel('Epochs')\n",
    "plt.ylabel('Loss')\n",
    "plt.legend()\n",
    "plt.show()"
   ]
  },
  {
   "cell_type": "markdown",
   "metadata": {},
   "source": [
    "### Evaluating the tuned model"
   ]
  },
  {
   "cell_type": "code",
   "execution_count": null,
   "metadata": {
    "scrolled": true
   },
   "outputs": [],
   "source": [
    "test = model.evaluate(X_test, y_test)"
   ]
  },
  {
   "cell_type": "markdown",
   "metadata": {},
   "source": [
    "### Classification report"
   ]
  },
  {
   "cell_type": "code",
   "execution_count": null,
   "metadata": {},
   "outputs": [],
   "source": [
    "predictions = model.predict(X_test)\n",
    "predictions = np.argmax(predictions, axis=1)\n",
    "\n",
    "new_y_test = np.argmax(y_test, axis=1)\n",
    "\n",
    "print(classification_report(new_y_test, predictions))"
   ]
  },
  {
   "cell_type": "markdown",
   "metadata": {},
   "source": [
    "### Confusion matrix"
   ]
  },
  {
   "cell_type": "code",
   "execution_count": null,
   "metadata": {},
   "outputs": [],
   "source": [
    "%matplotlib inline\n",
    "conf_matrix = pd.DataFrame(tf.math.confusion_matrix(new_y_test, predictions).numpy(), index=labels, columns=labels)\n",
    "conf_matrix.index.name = 'Actual'\n",
    "conf_matrix.columns.name = 'Predicted'\n",
    "fig_dims = (8, 6)\n",
    "fig, ax = plt.subplots(figsize=fig_dims)\n",
    "sns.heatmap(conf_matrix, annot=True, cmap=\"Blues\", annot_kws={\"size\": 16}, fmt='d')"
   ]
  },
  {
   "cell_type": "markdown",
   "metadata": {},
   "source": [
    "### Saving the tuned model"
   ]
  },
  {
   "cell_type": "code",
   "execution_count": null,
   "metadata": {},
   "outputs": [],
   "source": [
    "name = f\"random_search_tuned_best_model_{test}\"\n",
    "filepath = f\"{paths['models']}/{name}\"\n",
    "model.save(filepath)"
   ]
  },
  {
   "cell_type": "markdown",
   "metadata": {},
   "source": [
    "# "
   ]
  },
  {
   "cell_type": "code",
   "execution_count": null,
   "metadata": {},
   "outputs": [],
   "source": [
    "model_name = \"random_search_tuned_best_model_[0.3875276744365692, 0.8404908180236816]\"\n",
    "model = tf.keras.models.load_model(f\"{paths['models']}/{model_name}\")"
   ]
  },
  {
   "cell_type": "code",
   "execution_count": null,
   "metadata": {},
   "outputs": [],
   "source": [
    "model.get_config()"
   ]
  },
  {
   "cell_type": "code",
   "execution_count": null,
   "metadata": {},
   "outputs": [],
   "source": []
  }
 ],
 "metadata": {
  "kernelspec": {
   "display_name": "deepaudiobooktuner",
   "language": "python",
   "name": "deepaudiobooktuner"
  },
  "language_info": {
   "codemirror_mode": {
    "name": "ipython",
    "version": 3
   },
   "file_extension": ".py",
   "mimetype": "text/x-python",
   "name": "python",
   "nbconvert_exporter": "python",
   "pygments_lexer": "ipython3",
   "version": "3.8.8"
  }
 },
 "nbformat": 4,
 "nbformat_minor": 4
}
