{
 "cells": [
  {
   "cell_type": "code",
   "execution_count": 1,
   "metadata": {},
   "outputs": [],
   "source": [
    "%load_ext dotenv\n",
    "%dotenv"
   ]
  },
  {
   "cell_type": "markdown",
   "metadata": {},
   "source": [
    "## Import Dependencies"
   ]
  },
  {
   "cell_type": "code",
   "execution_count": 2,
   "metadata": {},
   "outputs": [
    {
     "name": "stderr",
     "output_type": "stream",
     "text": [
      "[nltk_data] Downloading package stopwords to\n",
      "[nltk_data]     C:\\Users\\Danny\\AppData\\Roaming\\nltk_data...\n",
      "[nltk_data]   Package stopwords is already up-to-date!\n",
      "[nltk_data] Downloading package punkt to\n",
      "[nltk_data]     C:\\Users\\Danny\\AppData\\Roaming\\nltk_data...\n",
      "[nltk_data]   Package punkt is already up-to-date!\n",
      "[nltk_data] Downloading package wordnet to\n",
      "[nltk_data]     C:\\Users\\Danny\\AppData\\Roaming\\nltk_data...\n",
      "[nltk_data]   Package wordnet is already up-to-date!\n"
     ]
    }
   ],
   "source": [
    "import os\n",
    "import re\n",
    "import pprint\n",
    "\n",
    "# Imports for IBM Watson's Speech to Text Transcriber\n",
    "from ibm_watson import SpeechToTextV1\n",
    "from ibm_watson.websocket import RecognizeCallback, AudioSource \n",
    "from ibm_cloud_sdk_core.authenticators import IAMAuthenticator\n",
    "\n",
    "import text2emotion as te"
   ]
  },
  {
   "cell_type": "markdown",
   "metadata": {},
   "source": [
    "# Transcription of the audio clips and detection of emotions from the transcripts"
   ]
  },
  {
   "cell_type": "markdown",
   "metadata": {},
   "source": [
    "## Setup STT Service"
   ]
  },
  {
   "cell_type": "code",
   "execution_count": 3,
   "metadata": {},
   "outputs": [],
   "source": [
    "api_key = os.getenv(\"api_key\")\n",
    "url = os.getenv(\"url\")"
   ]
  },
  {
   "cell_type": "code",
   "execution_count": 4,
   "metadata": {},
   "outputs": [],
   "source": [
    "# Setup Service\n",
    "authenticator = IAMAuthenticator(api_key)\n",
    "stt = SpeechToTextV1(authenticator=authenticator)\n",
    "stt.set_service_url(url)"
   ]
  },
  {
   "cell_type": "markdown",
   "metadata": {},
   "source": [
    "## Open Audio Clips directory and sort file names"
   ]
  },
  {
   "cell_type": "code",
   "execution_count": 5,
   "metadata": {},
   "outputs": [],
   "source": [
    "# Sorts the file names numerically\n",
    "def natural_key(string_):\n",
    "    return [int(s) if s.isdigit() else s for s in re.split(r'(\\d+)', string_)]"
   ]
  },
  {
   "cell_type": "code",
   "execution_count": 6,
   "metadata": {},
   "outputs": [],
   "source": [
    "# Enter the absolute path to the temp folder containing the clips\n",
    "folder_path = r'..\\..\\assets\\temp'\n",
    "\n",
    "file_names = os.listdir(folder_path)\n",
    "\n",
    "file_names.sort(key=natural_key)\n",
    "\n",
    "results = {}"
   ]
  },
  {
   "cell_type": "markdown",
   "metadata": {},
   "source": [
    "## Transcription and Detection of Emotions"
   ]
  },
  {
   "cell_type": "code",
   "execution_count": 7,
   "metadata": {},
   "outputs": [],
   "source": [
    "# Don't run this loop with alll the clip files in the temp folder\n",
    "count = 0\n",
    "for file_name in file_names:\n",
    "    if file_name[-3:] == 'wav' and count < 2:\n",
    "\n",
    "        file = os.path.abspath(os.path.join(folder_path, file_name))\n",
    "\n",
    "        # Perform transcription\n",
    "        with open(file, 'rb') as f:\n",
    "            res = stt.recognize(audio=f, content_type='audio/wav', model='en-US_NarrowbandModel', continuous=True).get_result()\n",
    "\n",
    "        text = \"\"\n",
    "        conf = 0.0\n",
    "    \n",
    "        for i in range(len(res['results'])):\n",
    "            text += res['results'][i]['alternatives'][0]['transcript'][0:-1] + \". \"\n",
    "            conf += res['results'][i]['alternatives'][0]['confidence']\n",
    "            \n",
    "        conf = conf/len(res['results'])\n",
    "\n",
    "        emotions = te.get_emotion(text)\n",
    "        \n",
    "        final_emotion = max(emotions, key= lambda x: emotions[x])\n",
    "        \n",
    "        results[file_name] = {'Transcription': text, 'Confidence': conf, 'Emotions': emotions, 'Final_Emotion': final_emotion}\n",
    "        \n",
    "        count += 1"
   ]
  },
  {
   "cell_type": "code",
   "execution_count": 8,
   "metadata": {},
   "outputs": [
    {
     "name": "stdout",
     "output_type": "stream",
     "text": [
      "{'clip_1.wav': {'Confidence': 0.9299999999999999,\n",
      "                'Emotions': {'Angry': 0.0,\n",
      "                             'Fear': 0.2,\n",
      "                             'Happy': 0.0,\n",
      "                             'Sad': 0.4,\n",
      "                             'Surprise': 0.4},\n",
      "                'Final_Emotion': 'Surprise',\n",
      "                'Transcription': 'Alice in Wonderland by Lewis Carroll chapter '\n",
      "                                 'one down the rabbit hole. Alice was '\n",
      "                                 'beginning to get very tired of sitting by '\n",
      "                                 'her sister on the bank and of having nothing '\n",
      "                                 'to do once or twice she had peeped into the '\n",
      "                                 'book her sister was reading but it had no '\n",
      "                                 'pictures or conversations in it and what is '\n",
      "                                 'the use of a book thought Alice without '\n",
      "                                 'pictures our conversation so she was '\n",
      "                                 'considering in her own mind as well as she '\n",
      "                                 'could. '},\n",
      " 'clip_2.wav': {'Confidence': 0.91,\n",
      "                'Emotions': {'Angry': 0.0,\n",
      "                             'Fear': 0.18,\n",
      "                             'Happy': 0.29,\n",
      "                             'Sad': 0.29,\n",
      "                             'Surprise': 0.24},\n",
      "                'Final_Emotion': 'Happy',\n",
      "                'Transcription': 'good for the hot day made her feel very '\n",
      "                                 'sleepy and stupid what are the pleasure of '\n",
      "                                 'making a daisy chain would be worth the '\n",
      "                                 'trouble of getting up and picking the '\n",
      "                                 'daisies when suddenly a White Rabbit with '\n",
      "                                 'pink eyes ran close by her there was nothing '\n",
      "                                 'so very remarkable and that nor did Alice '\n",
      "                                 'think it so very much out of the way to hear '\n",
      "                                 'the rabbit seder itself oh dear oh dear I '\n",
      "                                 'shall be late when she started over '\n",
      "                                 'afterwards it occurred to her that she ought '\n",
      "                                 'to have wondered if this. '}}\n"
     ]
    }
   ],
   "source": [
    "pprint.pprint(results)"
   ]
  },
  {
   "cell_type": "code",
   "execution_count": null,
   "metadata": {},
   "outputs": [],
   "source": []
  }
 ],
 "metadata": {
  "kernelspec": {
   "display_name": "Python 3",
   "language": "python",
   "name": "python3"
  },
  "language_info": {
   "codemirror_mode": {
    "name": "ipython",
    "version": 3
   },
   "file_extension": ".py",
   "mimetype": "text/x-python",
   "name": "python",
   "nbconvert_exporter": "python",
   "pygments_lexer": "ipython3",
   "version": "3.7.7"
  }
 },
 "nbformat": 4,
 "nbformat_minor": 4
}