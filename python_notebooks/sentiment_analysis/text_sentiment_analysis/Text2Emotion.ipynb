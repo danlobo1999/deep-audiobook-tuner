{
 "cells": [
  {
   "cell_type": "markdown",
   "metadata": {
    "id": "Rhwc-wR54eDw"
   },
   "source": [
    "## **Text2emotion: Python package to detect emotions from textual data**\n",
    "\n",
    "https://towardsdatascience.com/text2emotion-python-package-to-detect-emotions-from-textual-data-b2e7b7ce1153"
   ]
  },
  {
   "cell_type": "markdown",
   "metadata": {
    "id": "ivUkOaBPEQYr"
   },
   "source": [
    "### **What is Text2Emotion?**\n",
    "Text2Emotion is the python package which will help you to extract the emotions from the content.\n",
    "\n",
    "*   Processes any textual message and recognizes the emotion embedded in it.\n",
    "*   Compatible with 5 different emotion categories as Happy, Angry, Sad, Surprise and Fear.\n",
    "\n"
   ]
  },
  {
   "cell_type": "markdown",
   "metadata": {
    "id": "949Mr0BLF7xW"
   },
   "source": [
    "Here we will discuss about the working of package and how you can use it."
   ]
  },
  {
   "cell_type": "markdown",
   "metadata": {
    "id": "7qvXHaLbG7al"
   },
   "source": [
    "## 1. Install the package"
   ]
  },
  {
   "cell_type": "code",
   "execution_count": 1,
   "metadata": {
    "colab": {
     "base_uri": "https://localhost:8080/"
    },
    "executionInfo": {
     "elapsed": 6451,
     "status": "ok",
     "timestamp": 1610191331538,
     "user": {
      "displayName": "JENNY D'CRUZ_172047",
      "photoUrl": "https://lh3.googleusercontent.com/a-/AOh14GgxkSvJbqYIuDSZs-TxAVNylxH2TCyNfJl1zGsJfowDHFzs3dKCIRfCkJZ3qtXyfKQgzGlL7RYEVjMqV3OYviEOltSdsjMDZmiab4KyxYFCX_NhslQOwcZ3xbQlDrqVDkcgSPKYODKJUZZhEeFSdTkPkILfOMQ6pOEDVNHakwqgAyqNbSzpVUvMMAHPgFvQiqROZLiLmTJGsIjT8dnGKWcS2cGSLcHzHvzSSW6fGcnWY0vqR7PkCEge-AH8QLRmk9c9pWA7H0395XPqP7Twl7xxr3Kz5qj3OCntHlhVLC7lE45zrRGHiRECEIoePDJtSbomAgZMGoCldA9VXVm9JPoPSyXGvMxZ9R_bUidohf2jjtE1X7cZglLjBoBNCEWqYUHBBhheRcBYLbPNq8nVvJRhXCqK9nHbeJKUAWLeUuTvL-nRn3tEsfK1vJrra1J1ARlEjd9iPXGF8RDlcTcTx5Bq74IEBgBI_IUL8gjhV75Ld25Tal3CmFM2XXqr_VC9rooS96q5u3U9X9OTvRVAyg0sc21CgsHE7cWnBYR4KgwPxLEf4ulJEDJzYmMpiS_iGk-QMFsAXKfnj7MHsFv8468T9Tk0H4QJ7iSjU0qJ6boVCCivtNOLRWqVD8IC4e7piKlKhk8uKwKtfKXsG6Ex__uyLXxWQ2p2a7BOk9wzprrals83LTrCsymH_-kDkNDQp9CE6vxwcFmMGxLDE-YTuUMT6ZfwIwPSJorX-5GI2zFjK10pEhSx4LSByoekgooHPEv0RV4=s64",
      "userId": "00704723726477988369"
     },
     "user_tz": -330
    },
    "id": "nxET8yW3HIvL",
    "outputId": "fbbd3fcd-38aa-48b3-c62a-e4627254703b"
   },
   "outputs": [
    {
     "name": "stdout",
     "output_type": "stream",
     "text": [
      "Collecting text2emotion\n",
      "\u001b[?25l  Downloading https://files.pythonhosted.org/packages/fe/31/b190e37c1396ca68ab1b5c8ea1a23f2f7848df532ad69133e94853120aed/text2emotion-0.0.5-py3-none-any.whl (57kB)\n",
      "\r",
      "\u001b[K     |█████▊                          | 10kB 18.4MB/s eta 0:00:01\r",
      "\u001b[K     |███████████▍                    | 20kB 17.3MB/s eta 0:00:01\r",
      "\u001b[K     |█████████████████               | 30kB 15.7MB/s eta 0:00:01\r",
      "\u001b[K     |██████████████████████▊         | 40kB 13.9MB/s eta 0:00:01\r",
      "\u001b[K     |████████████████████████████▍   | 51kB 15.9MB/s eta 0:00:01\r",
      "\u001b[K     |████████████████████████████████| 61kB 5.0MB/s \n",
      "\u001b[?25hRequirement already satisfied: nltk in /usr/local/lib/python3.6/dist-packages (from text2emotion) (3.2.5)\n",
      "Collecting emoji>=0.6.0\n",
      "\u001b[?25l  Downloading https://files.pythonhosted.org/packages/ff/1c/1f1457fe52d0b30cbeebfd578483cedb3e3619108d2d5a21380dfecf8ffd/emoji-0.6.0.tar.gz (51kB)\n",
      "\u001b[K     |████████████████████████████████| 51kB 4.5MB/s \n",
      "\u001b[?25hRequirement already satisfied: six in /usr/local/lib/python3.6/dist-packages (from nltk->text2emotion) (1.15.0)\n",
      "Building wheels for collected packages: emoji\n",
      "  Building wheel for emoji (setup.py) ... \u001b[?25l\u001b[?25hdone\n",
      "  Created wheel for emoji: filename=emoji-0.6.0-cp36-none-any.whl size=49717 sha256=8b161f8b8e0d1fb1791163b8576bf8d0038c5b7b22caea4288ee7eeec88b20c4\n",
      "  Stored in directory: /root/.cache/pip/wheels/46/2c/8b/9dcf5216ca68e14e0320e283692dce8ae321cdc01e73e17796\n",
      "Successfully built emoji\n",
      "Installing collected packages: emoji, text2emotion\n",
      "Successfully installed emoji-0.6.0 text2emotion-0.0.5\n"
     ]
    }
   ],
   "source": [
    "pip install text2emotion"
   ]
  },
  {
   "cell_type": "code",
   "execution_count": 2,
   "metadata": {
    "colab": {
     "base_uri": "https://localhost:8080/"
    },
    "executionInfo": {
     "elapsed": 3880,
     "status": "ok",
     "timestamp": 1610191406955,
     "user": {
      "displayName": "JENNY D'CRUZ_172047",
      "photoUrl": "https://lh3.googleusercontent.com/a-/AOh14GgxkSvJbqYIuDSZs-TxAVNylxH2TCyNfJl1zGsJfowDHFzs3dKCIRfCkJZ3qtXyfKQgzGlL7RYEVjMqV3OYviEOltSdsjMDZmiab4KyxYFCX_NhslQOwcZ3xbQlDrqVDkcgSPKYODKJUZZhEeFSdTkPkILfOMQ6pOEDVNHakwqgAyqNbSzpVUvMMAHPgFvQiqROZLiLmTJGsIjT8dnGKWcS2cGSLcHzHvzSSW6fGcnWY0vqR7PkCEge-AH8QLRmk9c9pWA7H0395XPqP7Twl7xxr3Kz5qj3OCntHlhVLC7lE45zrRGHiRECEIoePDJtSbomAgZMGoCldA9VXVm9JPoPSyXGvMxZ9R_bUidohf2jjtE1X7cZglLjBoBNCEWqYUHBBhheRcBYLbPNq8nVvJRhXCqK9nHbeJKUAWLeUuTvL-nRn3tEsfK1vJrra1J1ARlEjd9iPXGF8RDlcTcTx5Bq74IEBgBI_IUL8gjhV75Ld25Tal3CmFM2XXqr_VC9rooS96q5u3U9X9OTvRVAyg0sc21CgsHE7cWnBYR4KgwPxLEf4ulJEDJzYmMpiS_iGk-QMFsAXKfnj7MHsFv8468T9Tk0H4QJ7iSjU0qJ6boVCCivtNOLRWqVD8IC4e7piKlKhk8uKwKtfKXsG6Ex__uyLXxWQ2p2a7BOk9wzprrals83LTrCsymH_-kDkNDQp9CE6vxwcFmMGxLDE-YTuUMT6ZfwIwPSJorX-5GI2zFjK10pEhSx4LSByoekgooHPEv0RV4=s64",
      "userId": "00704723726477988369"
     },
     "user_tz": -330
    },
    "id": "D3QHLMdnbMCX",
    "outputId": "9a161ace-7ed0-4672-a68f-09b9bf68c64b"
   },
   "outputs": [
    {
     "name": "stdout",
     "output_type": "stream",
     "text": [
      "[nltk_data] Downloading package stopwords to /root/nltk_data...\n",
      "[nltk_data]   Unzipping corpora/stopwords.zip.\n",
      "[nltk_data] Downloading package punkt to /root/nltk_data...\n",
      "[nltk_data]   Unzipping tokenizers/punkt.zip.\n",
      "[nltk_data] Downloading package wordnet to /root/nltk_data...\n",
      "[nltk_data]   Unzipping corpora/wordnet.zip.\n"
     ]
    }
   ],
   "source": [
    "import text2emotion as te"
   ]
  },
  {
   "cell_type": "markdown",
   "metadata": {
    "id": "DgcGUoLpO0aw"
   },
   "source": [
    "## 2. Call get_emotion() function"
   ]
  },
  {
   "cell_type": "markdown",
   "metadata": {
    "id": "cic_vEaoI7Ge"
   },
   "source": [
    "Let's get some content for emotion analysis"
   ]
  },
  {
   "cell_type": "code",
   "execution_count": 3,
   "metadata": {
    "executionInfo": {
     "elapsed": 1196,
     "status": "ok",
     "timestamp": 1610191411961,
     "user": {
      "displayName": "JENNY D'CRUZ_172047",
      "photoUrl": "https://lh3.googleusercontent.com/a-/AOh14GgxkSvJbqYIuDSZs-TxAVNylxH2TCyNfJl1zGsJfowDHFzs3dKCIRfCkJZ3qtXyfKQgzGlL7RYEVjMqV3OYviEOltSdsjMDZmiab4KyxYFCX_NhslQOwcZ3xbQlDrqVDkcgSPKYODKJUZZhEeFSdTkPkILfOMQ6pOEDVNHakwqgAyqNbSzpVUvMMAHPgFvQiqROZLiLmTJGsIjT8dnGKWcS2cGSLcHzHvzSSW6fGcnWY0vqR7PkCEge-AH8QLRmk9c9pWA7H0395XPqP7Twl7xxr3Kz5qj3OCntHlhVLC7lE45zrRGHiRECEIoePDJtSbomAgZMGoCldA9VXVm9JPoPSyXGvMxZ9R_bUidohf2jjtE1X7cZglLjBoBNCEWqYUHBBhheRcBYLbPNq8nVvJRhXCqK9nHbeJKUAWLeUuTvL-nRn3tEsfK1vJrra1J1ARlEjd9iPXGF8RDlcTcTx5Bq74IEBgBI_IUL8gjhV75Ld25Tal3CmFM2XXqr_VC9rooS96q5u3U9X9OTvRVAyg0sc21CgsHE7cWnBYR4KgwPxLEf4ulJEDJzYmMpiS_iGk-QMFsAXKfnj7MHsFv8468T9Tk0H4QJ7iSjU0qJ6boVCCivtNOLRWqVD8IC4e7piKlKhk8uKwKtfKXsG6Ex__uyLXxWQ2p2a7BOk9wzprrals83LTrCsymH_-kDkNDQp9CE6vxwcFmMGxLDE-YTuUMT6ZfwIwPSJorX-5GI2zFjK10pEhSx4LSByoekgooHPEv0RV4=s64",
      "userId": "00704723726477988369"
     },
     "user_tz": -330
    },
    "id": "McuobJsvH2EF"
   },
   "outputs": [],
   "source": [
    "text = \"I was asked to sign a third party contract a week out from stay. If it wasn't an 8 person group that took a lot of wrangling I would have cancelled the booking straight away. Bathrooms - there are no stand alone bathrooms. Please consider this - you have to clear out the main bedroom to use that bathroom. Other option is you walk through a different bedroom to get to its en-suite. Signs all over the apartment - there are signs everywhere - some helpful - some telling you rules. Perhaps some people like this but It negatively affected our enjoyment of the accommodation. Stairs - lots of them - some had slightly bending wood which caused a minor injury.\""
   ]
  },
  {
   "cell_type": "code",
   "execution_count": 4,
   "metadata": {
    "colab": {
     "base_uri": "https://localhost:8080/"
    },
    "executionInfo": {
     "elapsed": 3287,
     "status": "ok",
     "timestamp": 1610191416701,
     "user": {
      "displayName": "JENNY D'CRUZ_172047",
      "photoUrl": "https://lh3.googleusercontent.com/a-/AOh14GgxkSvJbqYIuDSZs-TxAVNylxH2TCyNfJl1zGsJfowDHFzs3dKCIRfCkJZ3qtXyfKQgzGlL7RYEVjMqV3OYviEOltSdsjMDZmiab4KyxYFCX_NhslQOwcZ3xbQlDrqVDkcgSPKYODKJUZZhEeFSdTkPkILfOMQ6pOEDVNHakwqgAyqNbSzpVUvMMAHPgFvQiqROZLiLmTJGsIjT8dnGKWcS2cGSLcHzHvzSSW6fGcnWY0vqR7PkCEge-AH8QLRmk9c9pWA7H0395XPqP7Twl7xxr3Kz5qj3OCntHlhVLC7lE45zrRGHiRECEIoePDJtSbomAgZMGoCldA9VXVm9JPoPSyXGvMxZ9R_bUidohf2jjtE1X7cZglLjBoBNCEWqYUHBBhheRcBYLbPNq8nVvJRhXCqK9nHbeJKUAWLeUuTvL-nRn3tEsfK1vJrra1J1ARlEjd9iPXGF8RDlcTcTx5Bq74IEBgBI_IUL8gjhV75Ld25Tal3CmFM2XXqr_VC9rooS96q5u3U9X9OTvRVAyg0sc21CgsHE7cWnBYR4KgwPxLEf4ulJEDJzYmMpiS_iGk-QMFsAXKfnj7MHsFv8468T9Tk0H4QJ7iSjU0qJ6boVCCivtNOLRWqVD8IC4e7piKlKhk8uKwKtfKXsG6Ex__uyLXxWQ2p2a7BOk9wzprrals83LTrCsymH_-kDkNDQp9CE6vxwcFmMGxLDE-YTuUMT6ZfwIwPSJorX-5GI2zFjK10pEhSx4LSByoekgooHPEv0RV4=s64",
      "userId": "00704723726477988369"
     },
     "user_tz": -330
    },
    "id": "q9n9nGi1H0WN",
    "outputId": "54d43b8b-59d8-42ad-82a1-c6451bf6fb86"
   },
   "outputs": [
    {
     "data": {
      "text/plain": [
       "{'Angry': 0.12, 'Fear': 0.42, 'Happy': 0.04, 'Sad': 0.33, 'Surprise': 0.08}"
      ]
     },
     "execution_count": 4,
     "metadata": {
      "tags": []
     },
     "output_type": "execute_result"
    }
   ],
   "source": [
    "te.get_emotion(text)"
   ]
  },
  {
   "cell_type": "markdown",
   "metadata": {
    "id": "uyjyMGEcI44c"
   },
   "source": [
    "Here, we got the output in terms of dictionary where we have emotion categories along with the respective score."
   ]
  },
  {
   "cell_type": "markdown",
   "metadata": {
    "id": "Y2hpOj6hM8cz"
   },
   "source": [
    "Now, if we think about the scores of the relative emotion categories then **Fear** scoe is 0.45 & **Sad** score is 0.32. So on overall analysis we can say that the statement we took as input has the Fear & Sad tone."
   ]
  },
  {
   "cell_type": "code",
   "execution_count": 5,
   "metadata": {
    "executionInfo": {
     "elapsed": 1159,
     "status": "ok",
     "timestamp": 1610191420183,
     "user": {
      "displayName": "JENNY D'CRUZ_172047",
      "photoUrl": "https://lh3.googleusercontent.com/a-/AOh14GgxkSvJbqYIuDSZs-TxAVNylxH2TCyNfJl1zGsJfowDHFzs3dKCIRfCkJZ3qtXyfKQgzGlL7RYEVjMqV3OYviEOltSdsjMDZmiab4KyxYFCX_NhslQOwcZ3xbQlDrqVDkcgSPKYODKJUZZhEeFSdTkPkILfOMQ6pOEDVNHakwqgAyqNbSzpVUvMMAHPgFvQiqROZLiLmTJGsIjT8dnGKWcS2cGSLcHzHvzSSW6fGcnWY0vqR7PkCEge-AH8QLRmk9c9pWA7H0395XPqP7Twl7xxr3Kz5qj3OCntHlhVLC7lE45zrRGHiRECEIoePDJtSbomAgZMGoCldA9VXVm9JPoPSyXGvMxZ9R_bUidohf2jjtE1X7cZglLjBoBNCEWqYUHBBhheRcBYLbPNq8nVvJRhXCqK9nHbeJKUAWLeUuTvL-nRn3tEsfK1vJrra1J1ARlEjd9iPXGF8RDlcTcTx5Bq74IEBgBI_IUL8gjhV75Ld25Tal3CmFM2XXqr_VC9rooS96q5u3U9X9OTvRVAyg0sc21CgsHE7cWnBYR4KgwPxLEf4ulJEDJzYmMpiS_iGk-QMFsAXKfnj7MHsFv8468T9Tk0H4QJ7iSjU0qJ6boVCCivtNOLRWqVD8IC4e7piKlKhk8uKwKtfKXsG6Ex__uyLXxWQ2p2a7BOk9wzprrals83LTrCsymH_-kDkNDQp9CE6vxwcFmMGxLDE-YTuUMT6ZfwIwPSJorX-5GI2zFjK10pEhSx4LSByoekgooHPEv0RV4=s64",
      "userId": "00704723726477988369"
     },
     "user_tz": -330
    },
    "id": "UR2s0lo3Iuzq"
   },
   "outputs": [],
   "source": [
    "text = \"The times are difficult! Our sales have been disappointing for the past three quarters for our data analytics product suite. We have a competitive data analytics product suite in the industry. However, we are not doing a good job at selling it, and this is really frustrating.\""
   ]
  },
  {
   "cell_type": "code",
   "execution_count": 6,
   "metadata": {
    "colab": {
     "base_uri": "https://localhost:8080/"
    },
    "executionInfo": {
     "elapsed": 1164,
     "status": "ok",
     "timestamp": 1610191422104,
     "user": {
      "displayName": "JENNY D'CRUZ_172047",
      "photoUrl": "https://lh3.googleusercontent.com/a-/AOh14GgxkSvJbqYIuDSZs-TxAVNylxH2TCyNfJl1zGsJfowDHFzs3dKCIRfCkJZ3qtXyfKQgzGlL7RYEVjMqV3OYviEOltSdsjMDZmiab4KyxYFCX_NhslQOwcZ3xbQlDrqVDkcgSPKYODKJUZZhEeFSdTkPkILfOMQ6pOEDVNHakwqgAyqNbSzpVUvMMAHPgFvQiqROZLiLmTJGsIjT8dnGKWcS2cGSLcHzHvzSSW6fGcnWY0vqR7PkCEge-AH8QLRmk9c9pWA7H0395XPqP7Twl7xxr3Kz5qj3OCntHlhVLC7lE45zrRGHiRECEIoePDJtSbomAgZMGoCldA9VXVm9JPoPSyXGvMxZ9R_bUidohf2jjtE1X7cZglLjBoBNCEWqYUHBBhheRcBYLbPNq8nVvJRhXCqK9nHbeJKUAWLeUuTvL-nRn3tEsfK1vJrra1J1ARlEjd9iPXGF8RDlcTcTx5Bq74IEBgBI_IUL8gjhV75Ld25Tal3CmFM2XXqr_VC9rooS96q5u3U9X9OTvRVAyg0sc21CgsHE7cWnBYR4KgwPxLEf4ulJEDJzYmMpiS_iGk-QMFsAXKfnj7MHsFv8468T9Tk0H4QJ7iSjU0qJ6boVCCivtNOLRWqVD8IC4e7piKlKhk8uKwKtfKXsG6Ex__uyLXxWQ2p2a7BOk9wzprrals83LTrCsymH_-kDkNDQp9CE6vxwcFmMGxLDE-YTuUMT6ZfwIwPSJorX-5GI2zFjK10pEhSx4LSByoekgooHPEv0RV4=s64",
      "userId": "00704723726477988369"
     },
     "user_tz": -330
    },
    "id": "EsVJ1ulWS5SF",
    "outputId": "3789afd4-2388-443d-c523-b7bbe24791dd"
   },
   "outputs": [
    {
     "data": {
      "text/plain": [
       "{'Angry': 0.14, 'Fear': 0.14, 'Happy': 0.14, 'Sad': 0.29, 'Surprise': 0.29}"
      ]
     },
     "execution_count": 6,
     "metadata": {
      "tags": []
     },
     "output_type": "execute_result"
    }
   ],
   "source": [
    "te.get_emotion(text)"
   ]
  },
  {
   "cell_type": "markdown",
   "metadata": {
    "id": "IZ4o-w7LO3tG"
   },
   "source": [
    "Let's check for short messages."
   ]
  },
  {
   "cell_type": "code",
   "execution_count": 7,
   "metadata": {
    "colab": {
     "base_uri": "https://localhost:8080/"
    },
    "executionInfo": {
     "elapsed": 1164,
     "status": "ok",
     "timestamp": 1610191424920,
     "user": {
      "displayName": "JENNY D'CRUZ_172047",
      "photoUrl": "https://lh3.googleusercontent.com/a-/AOh14GgxkSvJbqYIuDSZs-TxAVNylxH2TCyNfJl1zGsJfowDHFzs3dKCIRfCkJZ3qtXyfKQgzGlL7RYEVjMqV3OYviEOltSdsjMDZmiab4KyxYFCX_NhslQOwcZ3xbQlDrqVDkcgSPKYODKJUZZhEeFSdTkPkILfOMQ6pOEDVNHakwqgAyqNbSzpVUvMMAHPgFvQiqROZLiLmTJGsIjT8dnGKWcS2cGSLcHzHvzSSW6fGcnWY0vqR7PkCEge-AH8QLRmk9c9pWA7H0395XPqP7Twl7xxr3Kz5qj3OCntHlhVLC7lE45zrRGHiRECEIoePDJtSbomAgZMGoCldA9VXVm9JPoPSyXGvMxZ9R_bUidohf2jjtE1X7cZglLjBoBNCEWqYUHBBhheRcBYLbPNq8nVvJRhXCqK9nHbeJKUAWLeUuTvL-nRn3tEsfK1vJrra1J1ARlEjd9iPXGF8RDlcTcTx5Bq74IEBgBI_IUL8gjhV75Ld25Tal3CmFM2XXqr_VC9rooS96q5u3U9X9OTvRVAyg0sc21CgsHE7cWnBYR4KgwPxLEf4ulJEDJzYmMpiS_iGk-QMFsAXKfnj7MHsFv8468T9Tk0H4QJ7iSjU0qJ6boVCCivtNOLRWqVD8IC4e7piKlKhk8uKwKtfKXsG6Ex__uyLXxWQ2p2a7BOk9wzprrals83LTrCsymH_-kDkNDQp9CE6vxwcFmMGxLDE-YTuUMT6ZfwIwPSJorX-5GI2zFjK10pEhSx4LSByoekgooHPEv0RV4=s64",
      "userId": "00704723726477988369"
     },
     "user_tz": -330
    },
    "id": "9gJfoXOzPAUs",
    "outputId": "f3c823e3-6fce-42b6-e403-621a693937b2"
   },
   "outputs": [
    {
     "data": {
      "text/plain": [
       "{'Angry': 0.0, 'Fear': 0.0, 'Happy': 1.0, 'Sad': 0.0, 'Surprise': 0.0}"
      ]
     },
     "execution_count": 7,
     "metadata": {
      "tags": []
     },
     "output_type": "execute_result"
    }
   ],
   "source": [
    "text = \"Good n8\"\n",
    "te.get_emotion(text)"
   ]
  },
  {
   "cell_type": "code",
   "execution_count": 8,
   "metadata": {
    "colab": {
     "base_uri": "https://localhost:8080/"
    },
    "executionInfo": {
     "elapsed": 1198,
     "status": "ok",
     "timestamp": 1610191426597,
     "user": {
      "displayName": "JENNY D'CRUZ_172047",
      "photoUrl": "https://lh3.googleusercontent.com/a-/AOh14GgxkSvJbqYIuDSZs-TxAVNylxH2TCyNfJl1zGsJfowDHFzs3dKCIRfCkJZ3qtXyfKQgzGlL7RYEVjMqV3OYviEOltSdsjMDZmiab4KyxYFCX_NhslQOwcZ3xbQlDrqVDkcgSPKYODKJUZZhEeFSdTkPkILfOMQ6pOEDVNHakwqgAyqNbSzpVUvMMAHPgFvQiqROZLiLmTJGsIjT8dnGKWcS2cGSLcHzHvzSSW6fGcnWY0vqR7PkCEge-AH8QLRmk9c9pWA7H0395XPqP7Twl7xxr3Kz5qj3OCntHlhVLC7lE45zrRGHiRECEIoePDJtSbomAgZMGoCldA9VXVm9JPoPSyXGvMxZ9R_bUidohf2jjtE1X7cZglLjBoBNCEWqYUHBBhheRcBYLbPNq8nVvJRhXCqK9nHbeJKUAWLeUuTvL-nRn3tEsfK1vJrra1J1ARlEjd9iPXGF8RDlcTcTx5Bq74IEBgBI_IUL8gjhV75Ld25Tal3CmFM2XXqr_VC9rooS96q5u3U9X9OTvRVAyg0sc21CgsHE7cWnBYR4KgwPxLEf4ulJEDJzYmMpiS_iGk-QMFsAXKfnj7MHsFv8468T9Tk0H4QJ7iSjU0qJ6boVCCivtNOLRWqVD8IC4e7piKlKhk8uKwKtfKXsG6Ex__uyLXxWQ2p2a7BOk9wzprrals83LTrCsymH_-kDkNDQp9CE6vxwcFmMGxLDE-YTuUMT6ZfwIwPSJorX-5GI2zFjK10pEhSx4LSByoekgooHPEv0RV4=s64",
      "userId": "00704723726477988369"
     },
     "user_tz": -330
    },
    "id": "4ILgh6jhPMUK",
    "outputId": "ce379fda-ec40-42ec-a93e-9d5373eec349"
   },
   "outputs": [
    {
     "data": {
      "text/plain": [
       "{'Angry': 0.0, 'Fear': 1.0, 'Happy': 0.0, 'Sad': 0.0, 'Surprise': 0.0}"
      ]
     },
     "execution_count": 8,
     "metadata": {
      "tags": []
     },
     "output_type": "execute_result"
    }
   ],
   "source": [
    "text = \"That night was so horrible.\"\n",
    "te.get_emotion(text)"
   ]
  },
  {
   "cell_type": "code",
   "execution_count": 9,
   "metadata": {
    "colab": {
     "base_uri": "https://localhost:8080/"
    },
    "executionInfo": {
     "elapsed": 1220,
     "status": "ok",
     "timestamp": 1610191428468,
     "user": {
      "displayName": "JENNY D'CRUZ_172047",
      "photoUrl": "https://lh3.googleusercontent.com/a-/AOh14GgxkSvJbqYIuDSZs-TxAVNylxH2TCyNfJl1zGsJfowDHFzs3dKCIRfCkJZ3qtXyfKQgzGlL7RYEVjMqV3OYviEOltSdsjMDZmiab4KyxYFCX_NhslQOwcZ3xbQlDrqVDkcgSPKYODKJUZZhEeFSdTkPkILfOMQ6pOEDVNHakwqgAyqNbSzpVUvMMAHPgFvQiqROZLiLmTJGsIjT8dnGKWcS2cGSLcHzHvzSSW6fGcnWY0vqR7PkCEge-AH8QLRmk9c9pWA7H0395XPqP7Twl7xxr3Kz5qj3OCntHlhVLC7lE45zrRGHiRECEIoePDJtSbomAgZMGoCldA9VXVm9JPoPSyXGvMxZ9R_bUidohf2jjtE1X7cZglLjBoBNCEWqYUHBBhheRcBYLbPNq8nVvJRhXCqK9nHbeJKUAWLeUuTvL-nRn3tEsfK1vJrra1J1ARlEjd9iPXGF8RDlcTcTx5Bq74IEBgBI_IUL8gjhV75Ld25Tal3CmFM2XXqr_VC9rooS96q5u3U9X9OTvRVAyg0sc21CgsHE7cWnBYR4KgwPxLEf4ulJEDJzYmMpiS_iGk-QMFsAXKfnj7MHsFv8468T9Tk0H4QJ7iSjU0qJ6boVCCivtNOLRWqVD8IC4e7piKlKhk8uKwKtfKXsG6Ex__uyLXxWQ2p2a7BOk9wzprrals83LTrCsymH_-kDkNDQp9CE6vxwcFmMGxLDE-YTuUMT6ZfwIwPSJorX-5GI2zFjK10pEhSx4LSByoekgooHPEv0RV4=s64",
      "userId": "00704723726477988369"
     },
     "user_tz": -330
    },
    "id": "dlzlYbQuPVY2",
    "outputId": "61b6bd4a-f535-4514-8148-f861679ed29a"
   },
   "outputs": [
    {
     "data": {
      "text/plain": [
       "{'Angry': 0.0, 'Fear': 0.0, 'Happy': 0.5, 'Sad': 0.0, 'Surprise': 0.5}"
      ]
     },
     "execution_count": 9,
     "metadata": {
      "tags": []
     },
     "output_type": "execute_result"
    }
   ],
   "source": [
    "text = \"I just love this surprise.\"\n",
    "te.get_emotion(text)"
   ]
  },
  {
   "cell_type": "code",
   "execution_count": 10,
   "metadata": {
    "colab": {
     "base_uri": "https://localhost:8080/"
    },
    "executionInfo": {
     "elapsed": 1541,
     "status": "ok",
     "timestamp": 1610191429961,
     "user": {
      "displayName": "JENNY D'CRUZ_172047",
      "photoUrl": "https://lh3.googleusercontent.com/a-/AOh14GgxkSvJbqYIuDSZs-TxAVNylxH2TCyNfJl1zGsJfowDHFzs3dKCIRfCkJZ3qtXyfKQgzGlL7RYEVjMqV3OYviEOltSdsjMDZmiab4KyxYFCX_NhslQOwcZ3xbQlDrqVDkcgSPKYODKJUZZhEeFSdTkPkILfOMQ6pOEDVNHakwqgAyqNbSzpVUvMMAHPgFvQiqROZLiLmTJGsIjT8dnGKWcS2cGSLcHzHvzSSW6fGcnWY0vqR7PkCEge-AH8QLRmk9c9pWA7H0395XPqP7Twl7xxr3Kz5qj3OCntHlhVLC7lE45zrRGHiRECEIoePDJtSbomAgZMGoCldA9VXVm9JPoPSyXGvMxZ9R_bUidohf2jjtE1X7cZglLjBoBNCEWqYUHBBhheRcBYLbPNq8nVvJRhXCqK9nHbeJKUAWLeUuTvL-nRn3tEsfK1vJrra1J1ARlEjd9iPXGF8RDlcTcTx5Bq74IEBgBI_IUL8gjhV75Ld25Tal3CmFM2XXqr_VC9rooS96q5u3U9X9OTvRVAyg0sc21CgsHE7cWnBYR4KgwPxLEf4ulJEDJzYmMpiS_iGk-QMFsAXKfnj7MHsFv8468T9Tk0H4QJ7iSjU0qJ6boVCCivtNOLRWqVD8IC4e7piKlKhk8uKwKtfKXsG6Ex__uyLXxWQ2p2a7BOk9wzprrals83LTrCsymH_-kDkNDQp9CE6vxwcFmMGxLDE-YTuUMT6ZfwIwPSJorX-5GI2zFjK10pEhSx4LSByoekgooHPEv0RV4=s64",
      "userId": "00704723726477988369"
     },
     "user_tz": -330
    },
    "id": "CNSSyJTAPePS",
    "outputId": "eb3ad028-e22a-483a-b9ad-c0ce6afe582c"
   },
   "outputs": [
    {
     "data": {
      "text/plain": [
       "{'Angry': 0.0, 'Fear': 0.0, 'Happy': 0.0, 'Sad': 1.0, 'Surprise': 0.0}"
      ]
     },
     "execution_count": 10,
     "metadata": {
      "tags": []
     },
     "output_type": "execute_result"
    }
   ],
   "source": [
    "text = \"I can't understand what to do now.\"\n",
    "te.get_emotion(text)"
   ]
  },
  {
   "cell_type": "markdown",
   "metadata": {
    "id": "UCwPZ34BRY0_"
   },
   "source": [
    "Let's check out with some statements which contain emojis.\n"
   ]
  },
  {
   "cell_type": "code",
   "execution_count": 11,
   "metadata": {
    "colab": {
     "base_uri": "https://localhost:8080/"
    },
    "executionInfo": {
     "elapsed": 1196,
     "status": "ok",
     "timestamp": 1610191432547,
     "user": {
      "displayName": "JENNY D'CRUZ_172047",
      "photoUrl": "https://lh3.googleusercontent.com/a-/AOh14GgxkSvJbqYIuDSZs-TxAVNylxH2TCyNfJl1zGsJfowDHFzs3dKCIRfCkJZ3qtXyfKQgzGlL7RYEVjMqV3OYviEOltSdsjMDZmiab4KyxYFCX_NhslQOwcZ3xbQlDrqVDkcgSPKYODKJUZZhEeFSdTkPkILfOMQ6pOEDVNHakwqgAyqNbSzpVUvMMAHPgFvQiqROZLiLmTJGsIjT8dnGKWcS2cGSLcHzHvzSSW6fGcnWY0vqR7PkCEge-AH8QLRmk9c9pWA7H0395XPqP7Twl7xxr3Kz5qj3OCntHlhVLC7lE45zrRGHiRECEIoePDJtSbomAgZMGoCldA9VXVm9JPoPSyXGvMxZ9R_bUidohf2jjtE1X7cZglLjBoBNCEWqYUHBBhheRcBYLbPNq8nVvJRhXCqK9nHbeJKUAWLeUuTvL-nRn3tEsfK1vJrra1J1ARlEjd9iPXGF8RDlcTcTx5Bq74IEBgBI_IUL8gjhV75Ld25Tal3CmFM2XXqr_VC9rooS96q5u3U9X9OTvRVAyg0sc21CgsHE7cWnBYR4KgwPxLEf4ulJEDJzYmMpiS_iGk-QMFsAXKfnj7MHsFv8468T9Tk0H4QJ7iSjU0qJ6boVCCivtNOLRWqVD8IC4e7piKlKhk8uKwKtfKXsG6Ex__uyLXxWQ2p2a7BOk9wzprrals83LTrCsymH_-kDkNDQp9CE6vxwcFmMGxLDE-YTuUMT6ZfwIwPSJorX-5GI2zFjK10pEhSx4LSByoekgooHPEv0RV4=s64",
      "userId": "00704723726477988369"
     },
     "user_tz": -330
    },
    "id": "dnTtCGl_QVrQ",
    "outputId": "39be7e8f-6dd8-485d-b1ab-9c6d5337a4ae"
   },
   "outputs": [
    {
     "data": {
      "text/plain": [
       "{'Angry': 0.0, 'Fear': 0.0, 'Happy': 1.0, 'Sad': 0.0, 'Surprise': 0.0}"
      ]
     },
     "execution_count": 11,
     "metadata": {
      "tags": []
     },
     "output_type": "execute_result"
    }
   ],
   "source": [
    "text = \"you got this man 😆😂\"\n",
    "te.get_emotion(text)"
   ]
  },
  {
   "cell_type": "code",
   "execution_count": 12,
   "metadata": {
    "colab": {
     "base_uri": "https://localhost:8080/"
    },
    "executionInfo": {
     "elapsed": 1075,
     "status": "ok",
     "timestamp": 1610191434082,
     "user": {
      "displayName": "JENNY D'CRUZ_172047",
      "photoUrl": "https://lh3.googleusercontent.com/a-/AOh14GgxkSvJbqYIuDSZs-TxAVNylxH2TCyNfJl1zGsJfowDHFzs3dKCIRfCkJZ3qtXyfKQgzGlL7RYEVjMqV3OYviEOltSdsjMDZmiab4KyxYFCX_NhslQOwcZ3xbQlDrqVDkcgSPKYODKJUZZhEeFSdTkPkILfOMQ6pOEDVNHakwqgAyqNbSzpVUvMMAHPgFvQiqROZLiLmTJGsIjT8dnGKWcS2cGSLcHzHvzSSW6fGcnWY0vqR7PkCEge-AH8QLRmk9c9pWA7H0395XPqP7Twl7xxr3Kz5qj3OCntHlhVLC7lE45zrRGHiRECEIoePDJtSbomAgZMGoCldA9VXVm9JPoPSyXGvMxZ9R_bUidohf2jjtE1X7cZglLjBoBNCEWqYUHBBhheRcBYLbPNq8nVvJRhXCqK9nHbeJKUAWLeUuTvL-nRn3tEsfK1vJrra1J1ARlEjd9iPXGF8RDlcTcTx5Bq74IEBgBI_IUL8gjhV75Ld25Tal3CmFM2XXqr_VC9rooS96q5u3U9X9OTvRVAyg0sc21CgsHE7cWnBYR4KgwPxLEf4ulJEDJzYmMpiS_iGk-QMFsAXKfnj7MHsFv8468T9Tk0H4QJ7iSjU0qJ6boVCCivtNOLRWqVD8IC4e7piKlKhk8uKwKtfKXsG6Ex__uyLXxWQ2p2a7BOk9wzprrals83LTrCsymH_-kDkNDQp9CE6vxwcFmMGxLDE-YTuUMT6ZfwIwPSJorX-5GI2zFjK10pEhSx4LSByoekgooHPEv0RV4=s64",
      "userId": "00704723726477988369"
     },
     "user_tz": -330
    },
    "id": "K54DBtW3TruC",
    "outputId": "4d91b267-e5b9-4475-c927-a2e7a547ac09"
   },
   "outputs": [
    {
     "data": {
      "text/plain": [
       "{'Angry': 0.0, 'Fear': 0.0, 'Happy': 1.0, 'Sad': 0.0, 'Surprise': 0.0}"
      ]
     },
     "execution_count": 12,
     "metadata": {
      "tags": []
     },
     "output_type": "execute_result"
    }
   ],
   "source": [
    "text = \"I am extremely interested in software.\"\n",
    "te.get_emotion(text)"
   ]
  }
 ],
 "metadata": {
  "colab": {
   "name": "Text2Emotion.ipynb",
   "provenance": []
  },
  "kernelspec": {
   "display_name": "Python 3",
   "language": "python",
   "name": "python3"
  },
  "language_info": {
   "codemirror_mode": {
    "name": "ipython",
    "version": 3
   },
   "file_extension": ".py",
   "mimetype": "text/x-python",
   "name": "python",
   "nbconvert_exporter": "python",
   "pygments_lexer": "ipython3",
   "version": "3.7.7"
  }
 },
 "nbformat": 4,
 "nbformat_minor": 1
}
