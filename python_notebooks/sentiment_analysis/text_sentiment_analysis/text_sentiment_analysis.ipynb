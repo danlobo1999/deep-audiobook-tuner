{
 "cells": [
  {
   "cell_type": "code",
   "execution_count": 1,
   "metadata": {},
   "outputs": [],
   "source": [
    "%load_ext dotenv\n",
    "%dotenv"
   ]
  },
  {
   "cell_type": "markdown",
   "metadata": {},
   "source": [
    "## Import Dependencies"
   ]
  },
  {
   "cell_type": "code",
   "execution_count": 2,
   "metadata": {},
   "outputs": [
    {
     "name": "stderr",
     "output_type": "stream",
     "text": [
      "[nltk_data] Downloading package stopwords to\n",
      "[nltk_data]     C:\\Users\\Danny\\AppData\\Roaming\\nltk_data...\n",
      "[nltk_data]   Package stopwords is already up-to-date!\n",
      "[nltk_data] Downloading package punkt to\n",
      "[nltk_data]     C:\\Users\\Danny\\AppData\\Roaming\\nltk_data...\n",
      "[nltk_data]   Package punkt is already up-to-date!\n",
      "[nltk_data] Downloading package wordnet to\n",
      "[nltk_data]     C:\\Users\\Danny\\AppData\\Roaming\\nltk_data...\n",
      "[nltk_data]   Package wordnet is already up-to-date!\n"
     ]
    }
   ],
   "source": [
    "import os\n",
    "import re\n",
    "import pprint\n",
    "\n",
    "# Imports for IBM Watson's Speech to Text Transcriber\n",
    "from ibm_watson import SpeechToTextV1\n",
    "from ibm_watson.websocket import RecognizeCallback, AudioSource \n",
    "from ibm_cloud_sdk_core.authenticators import IAMAuthenticator\n",
    "\n",
    "import text2emotion as te"
   ]
  },
  {
   "cell_type": "markdown",
   "metadata": {},
   "source": [
    "# Transcription of the audio clips and detection of emotions from the transcripts"
   ]
  },
  {
   "cell_type": "markdown",
   "metadata": {},
   "source": [
    "## Setup STT Service"
   ]
  },
  {
   "cell_type": "code",
   "execution_count": 3,
   "metadata": {},
   "outputs": [],
   "source": [
    "api_key = os.getenv(\"api_key\")\n",
    "url = os.getenv(\"url\")"
   ]
  },
  {
   "cell_type": "code",
   "execution_count": 4,
   "metadata": {},
   "outputs": [],
   "source": [
    "# Setup Service\n",
    "authenticator = IAMAuthenticator(api_key)\n",
    "stt = SpeechToTextV1(authenticator=authenticator)\n",
    "stt.set_service_url(url)"
   ]
  },
  {
   "cell_type": "markdown",
   "metadata": {},
   "source": [
    "## Open Audio Clips directory and sort file names"
   ]
  },
  {
   "cell_type": "code",
   "execution_count": 5,
   "metadata": {},
   "outputs": [],
   "source": [
    "# Sorts the file names numerically\n",
    "def natural_key(string_):\n",
    "    \"\"\"See https://blog.codinghorror.com/sorting-for-humans-natural-sort-order/\"\"\"\n",
    "    return [int(s) if s.isdigit() else s for s in re.split(r'(\\d+)', string_)]"
   ]
  },
  {
   "cell_type": "code",
   "execution_count": 6,
   "metadata": {},
   "outputs": [],
   "source": [
    "# Enter the absolute path to the temp folder containing the clips\n",
    "folder_path = r'D:\\Projects\\BEProject\\deep-audiobook-tuner\\python_notebooks\\assets\\temp'\n",
    "\n",
    "file_names = os.listdir(folder_path)\n",
    "\n",
    "file_names.sort(key=natural_key)\n",
    "\n",
    "results = {}"
   ]
  },
  {
   "cell_type": "markdown",
   "metadata": {},
   "source": [
    "## Transcription and Detection of Emotions"
   ]
  },
  {
   "cell_type": "code",
   "execution_count": 11,
   "metadata": {},
   "outputs": [],
   "source": [
    "# Don't run this loop with alll the clip files in the temp folder\n",
    "for file_name in file_names:\n",
    "    if file_name[-3:] == 'wav':\n",
    "\n",
    "        file = os.path.abspath(os.path.join(folder_path, file_name))\n",
    "\n",
    "        # Perform transcription\n",
    "        with open(file, 'rb') as f:\n",
    "            res = stt.recognize(audio=f, content_type='audio/wav', model='en-US_NarrowbandModel', continuous=True).get_result()\n",
    "\n",
    "        text = \"\"\n",
    "        conf = 0.0\n",
    "    \n",
    "        for i in range(len(res['results'])):\n",
    "            text += res['results'][i]['alternatives'][0]['transcript'][0:-1] + \". \"\n",
    "            conf += res['results'][i]['alternatives'][0]['confidence']\n",
    "            \n",
    "        conf = conf/len(results)\n",
    "\n",
    "        emotions = te.get_emotion(text)\n",
    "        emotions.pop('Surprise')\n",
    "        \n",
    "        results[file_name] = [{'Transcription': text}, {'Confidence': conf}, {'Emotions': emotions}]"
   ]
  },
  {
   "cell_type": "code",
   "execution_count": 12,
   "metadata": {},
   "outputs": [
    {
     "name": "stdout",
     "output_type": "stream",
     "text": [
      "{'clip_1.wav': [{'Transcription': 'Alice in Wonderland by Lewis Carroll '\n",
      "                                  'chapter one down the rabbit hole. Alice was '\n",
      "                                  'beginning to get very tired of sitting by '\n",
      "                                  'her sister on the bank and of having '\n",
      "                                  'nothing to do once or twice she had peeped '\n",
      "                                  'into the book her sister was reading but it '\n",
      "                                  'had no pictures or conversations in it and '\n",
      "                                  'what is the use of a book thought Alice '\n",
      "                                  'without pictures our conversation so she '\n",
      "                                  'was considering in her own mind as well as '\n",
      "                                  'she could. '},\n",
      "                {'Confidence': 0.9299999999999999},\n",
      "                {'Emotions': {'Angry': 0.0,\n",
      "                              'Fear': 0.2,\n",
      "                              'Happy': 0.0,\n",
      "                              'Sad': 0.4}}],\n",
      " 'clip_2.wav': [{'Transcription': 'good for the hot day made her feel very '\n",
      "                                  'sleepy and stupid what are the pleasure of '\n",
      "                                  'making a daisy chain would be worth the '\n",
      "                                  'trouble of getting up and picking the '\n",
      "                                  'daisies when suddenly a White Rabbit with '\n",
      "                                  'pink eyes ran close by her there was '\n",
      "                                  'nothing so very remarkable and that nor did '\n",
      "                                  'Alice think it so very much out of the way '\n",
      "                                  'to hear the rabbit seder itself oh dear oh '\n",
      "                                  'dear I shall be late when she started over '\n",
      "                                  'afterwards it occurred to her that she '\n",
      "                                  'ought to have wondered if this. '},\n",
      "                {'Confidence': 0.455},\n",
      "                {'Emotions': {'Angry': 0.0,\n",
      "                              'Fear': 0.18,\n",
      "                              'Happy': 0.29,\n",
      "                              'Sad': 0.29}}]}\n"
     ]
    }
   ],
   "source": [
    "pprint.pprint(results)"
   ]
  },
  {
   "cell_type": "code",
   "execution_count": null,
   "metadata": {},
   "outputs": [],
   "source": []
  }
 ],
 "metadata": {
  "kernelspec": {
   "display_name": "Python 3",
   "language": "python",
   "name": "python3"
  },
  "language_info": {
   "codemirror_mode": {
    "name": "ipython",
    "version": 3
   },
   "file_extension": ".py",
   "mimetype": "text/x-python",
   "name": "python",
   "nbconvert_exporter": "python",
   "pygments_lexer": "ipython3",
   "version": "3.7.7"
  }
 },
 "nbformat": 4,
 "nbformat_minor": 4
}
