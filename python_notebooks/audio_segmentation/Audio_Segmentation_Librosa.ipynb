{
 "cells": [
  {
   "cell_type": "markdown",
   "metadata": {},
   "source": [
    "## Import Dependencies"
   ]
  },
  {
   "cell_type": "code",
   "execution_count": 1,
   "metadata": {},
   "outputs": [],
   "source": [
    "import os\n",
    "import librosa\n",
    "import soundfile as sf\n",
    "import subprocess"
   ]
  },
  {
   "cell_type": "code",
   "execution_count": 2,
   "metadata": {},
   "outputs": [
    {
     "name": "stdout",
     "output_type": "stream",
     "text": [
      "D:\\Projects\\BEProject\\deep-audiobook-tuner\\python_notebooks\\assets\\audiobooks\\Alice_in_Wonderland_chap_1.mp3\n"
     ]
    }
   ],
   "source": [
    "# Enter the absolute path to the folder containing the audiobook files\n",
    "folder_path = r'D:\\Projects\\BEProject\\deep-audiobook-tuner\\python_notebooks\\assets\\audiobooks'\n",
    "\n",
    "for file in os.listdir(folder_path):\n",
    "    if os.path.splitext(file)[1] == '.mp3':\n",
    "        file_name = os.path.abspath(os.path.join(folder_path, file))\n",
    "        print(file_name)"
   ]
  },
  {
   "cell_type": "markdown",
   "metadata": {},
   "source": [
    "## Convert from .mp3 to .wav"
   ]
  },
  {
   "cell_type": "code",
   "execution_count": 5,
   "metadata": {},
   "outputs": [
    {
     "data": {
      "text/plain": [
       "0"
      ]
     },
     "execution_count": 5,
     "metadata": {},
     "output_type": "execute_result"
    }
   ],
   "source": [
    "file_name_wav = file_name[:-3]+'wav'\n",
    "subprocess.call(['ffmpeg', '-i', file_name, file_name_wav])"
   ]
  },
  {
   "cell_type": "markdown",
   "metadata": {},
   "source": [
    "## Open File with librosa"
   ]
  },
  {
   "cell_type": "code",
   "execution_count": 6,
   "metadata": {},
   "outputs": [],
   "source": [
    "audio, sr = librosa.load(file_name_wav)"
   ]
  },
  {
   "cell_type": "markdown",
   "metadata": {},
   "source": [
    "## Split and Save audio files"
   ]
  },
  {
   "cell_type": "code",
   "execution_count": 7,
   "metadata": {
    "colab": {
     "base_uri": "https://localhost:8080/",
     "height": 369
    },
    "executionInfo": {
     "elapsed": 6710,
     "status": "error",
     "timestamp": 1611746724700,
     "user": {
      "displayName": "DANIEL LOBO_172028",
      "photoUrl": "",
      "userId": "08654221225445019604"
     },
     "user_tz": -330
    },
    "id": "AXEUOUfeRlPq",
    "outputId": "38835d54-f490-41b8-f032-eb5a4e70473e"
   },
   "outputs": [],
   "source": [
    "save_path = r'..\\\\assets\\\\temp'\n",
    "buffer = 30 * sr\n",
    " \n",
    "samples_total = len(audio)\n",
    "samples_wrote = 0\n",
    "counter = 1\n",
    " \n",
    "while samples_wrote < samples_total:\n",
    "  \n",
    "    #check if the buffer is not exceeding total samples \n",
    "    if buffer > (samples_total - samples_wrote):\n",
    "        buffer = samples_total - samples_wrote\n",
    " \n",
    "    block = audio[samples_wrote : (samples_wrote + buffer)]\n",
    "    out_file_name = \"clip_\" + str(counter) + \".wav\"\n",
    "    complete_name = os.path.join(save_path, out_file_name)\n",
    " \n",
    "    sf.write(complete_name, block, sr)\n",
    "    \n",
    "    counter += 1\n",
    "    samples_wrote += buffer"
   ]
  },
  {
   "cell_type": "code",
   "execution_count": null,
   "metadata": {},
   "outputs": [],
   "source": []
  }
 ],
 "metadata": {
  "colab": {
   "collapsed_sections": [],
   "name": "AudioSegmentation_Librosa.ipynb",
   "provenance": []
  },
  "kernelspec": {
   "display_name": "Python 3",
   "language": "python",
   "name": "python3"
  },
  "language_info": {
   "codemirror_mode": {
    "name": "ipython",
    "version": 3
   },
   "file_extension": ".py",
   "mimetype": "text/x-python",
   "name": "python",
   "nbconvert_exporter": "python",
   "pygments_lexer": "ipython3",
   "version": "3.7.7"
  }
 },
 "nbformat": 4,
 "nbformat_minor": 1
}
