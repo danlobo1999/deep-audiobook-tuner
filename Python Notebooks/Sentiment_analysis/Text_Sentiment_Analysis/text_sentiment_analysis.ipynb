{
 "cells": [
  {
   "cell_type": "code",
   "execution_count": 1,
   "metadata": {},
   "outputs": [],
   "source": [
    "%load_ext dotenv\n",
    "%dotenv"
   ]
  },
  {
   "cell_type": "markdown",
   "metadata": {},
   "source": [
    "## Import Dependencies"
   ]
  },
  {
   "cell_type": "code",
   "execution_count": 2,
   "metadata": {},
   "outputs": [
    {
     "name": "stderr",
     "output_type": "stream",
     "text": [
      "[nltk_data] Downloading package stopwords to\n",
      "[nltk_data]     C:\\Users\\Danny\\AppData\\Roaming\\nltk_data...\n",
      "[nltk_data]   Package stopwords is already up-to-date!\n",
      "[nltk_data] Downloading package punkt to\n",
      "[nltk_data]     C:\\Users\\Danny\\AppData\\Roaming\\nltk_data...\n",
      "[nltk_data]   Package punkt is already up-to-date!\n",
      "[nltk_data] Downloading package wordnet to\n",
      "[nltk_data]     C:\\Users\\Danny\\AppData\\Roaming\\nltk_data...\n",
      "[nltk_data]   Package wordnet is already up-to-date!\n"
     ]
    }
   ],
   "source": [
    "import os\n",
    "\n",
    "import librosa\n",
    "\n",
    "# Imports for IBM Watson's Speech to Text Transcriber\n",
    "from ibm_watson import SpeechToTextV1\n",
    "from ibm_watson.websocket import RecognizeCallback, AudioSource \n",
    "from ibm_cloud_sdk_core.authenticators import IAMAuthenticator\n",
    "\n",
    "import text2emotion as te"
   ]
  },
  {
   "cell_type": "markdown",
   "metadata": {},
   "source": [
    "# Segmentation of the Audiobook file into 30 sec clips"
   ]
  },
  {
   "cell_type": "markdown",
   "metadata": {},
   "source": [
    "## Open Audiobook File"
   ]
  },
  {
   "cell_type": "code",
   "execution_count": 3,
   "metadata": {},
   "outputs": [
    {
     "name": "stderr",
     "output_type": "stream",
     "text": [
      "c:\\users\\danny\\miniconda3\\lib\\site-packages\\librosa\\core\\audio.py:161: UserWarning: PySoundFile failed. Trying audioread instead.\n",
      "  warnings.warn('PySoundFile failed. Trying audioread instead.')\n"
     ]
    }
   ],
   "source": [
    "file_name = r'..\\\\..\\\\..\\\\assets\\\\audio_files\\\\Alice_in_Wonderland_chap_1.mp3'\n",
    "audio, sr = librosa.load(file_name)"
   ]
  },
  {
   "cell_type": "markdown",
   "metadata": {},
   "source": [
    "## Split and Save audio files"
   ]
  },
  {
   "cell_type": "code",
   "execution_count": 4,
   "metadata": {},
   "outputs": [],
   "source": [
    "save_path = r'..\\\\..\\\\..\\\\assets\\\\audio_files\\\\temp'\n",
    " \n",
    "buffer = 30 * sr\n",
    " \n",
    "samples_total = len(audio)\n",
    "samples_wrote = 0\n",
    "counter = 1\n",
    " \n",
    "while samples_wrote < samples_total:\n",
    "  \n",
    "    #check if the buffer is not exceeding total samples \n",
    "    if buffer > (samples_total - samples_wrote):\n",
    "        buffer = samples_total - samples_wrote\n",
    " \n",
    "    block = audio[samples_wrote : (samples_wrote + buffer)]\n",
    "    out_file_name = \"clip_\" + str(counter) + \".wav\"\n",
    "    complete_name = os.path.join(save_path, out_file_name)\n",
    " \n",
    "    librosa.output.write_wav(complete_name, block, sr)\n",
    "    \n",
    "    counter += 1\n",
    "    samples_wrote += buffer"
   ]
  },
  {
   "cell_type": "markdown",
   "metadata": {},
   "source": [
    "# Transcription of the audio clips and detection of emotions from the transcripts"
   ]
  },
  {
   "cell_type": "markdown",
   "metadata": {},
   "source": [
    "## Setup STT Service"
   ]
  },
  {
   "cell_type": "code",
   "execution_count": 5,
   "metadata": {},
   "outputs": [],
   "source": [
    "api_key = os.getenv(\"api_key\")\n",
    "url = os.getenv(\"url\")"
   ]
  },
  {
   "cell_type": "code",
   "execution_count": 6,
   "metadata": {},
   "outputs": [],
   "source": [
    "# Setup Service\n",
    "authenticator = IAMAuthenticator(api_key)\n",
    "stt = SpeechToTextV1(authenticator=authenticator)\n",
    "stt.set_service_url(url)"
   ]
  },
  {
   "cell_type": "markdown",
   "metadata": {},
   "source": [
    "## Open Audio Source and Transcribe"
   ]
  },
  {
   "cell_type": "code",
   "execution_count": 8,
   "metadata": {},
   "outputs": [
    {
     "name": "stdout",
     "output_type": "stream",
     "text": [
      "\n",
      "Transcription of clip_2.wav\n",
      "\n",
      "good for the hot day made her feel very sleepy and stupid what are the pleasure of making a daisy chain would be worth the trouble of getting up and picking the daisies when suddenly a White Rabbit with pink eyes ran close by her there was nothing so very remarkable and that nor did Alice think it so very much out of the way to hear the rabbit seder itself oh dear oh dear I shall be late when she started over afterwards it occurred to her that she ought to have wondered if this. \n",
      "Confidence: 0.91\n",
      "\n",
      "Detected Emotions of clip_2.wav\n",
      "\n",
      "{'Happy': 0.29, 'Angry': 0.0, 'Surprise': 0.24, 'Sad': 0.29, 'Fear': 0.18}\n",
      "\n",
      "---------------------------------------------------------------------------------------------------------------\n",
      "\n",
      "Transcription of clip_3.wav\n",
      "\n",
      "at the time it all seems quite natural but when the rabbit actually took a watch out of its waist coat pocket and looked at it and then hurried on ours started to her feet for it flashed across her mind that she had never before seen a rabbit with either a waistcoat pocket or watch to take out of it and burning with curiosity she ran across the field after it and fortunately was just in time to see it pop down a large rabbit hole under the hedge. \n",
      "Confidence: 0.85\n",
      "\n",
      "Detected Emotions of clip_3.wav\n",
      "\n",
      "{'Happy': 0.08, 'Angry': 0.0, 'Surprise': 0.5, 'Sad': 0.25, 'Fear': 0.17}\n",
      "\n",
      "---------------------------------------------------------------------------------------------------------------\n",
      "\n",
      "Transcription of clip_4.wav\n",
      "\n",
      "in another moment down went Alice after it never once considering how in the world she was to get out again the rabbit hole went straight on like a total for some way and then dipped suddenly down so suddenly that Alice had not a moment to think about stopping herself before she found herself falling down a very deep well. either the well was very deep or she felt very slowly for she had plenty of time as she went down to look about. \n",
      "Confidence: 0.92\n",
      "\n",
      "Detected Emotions of clip_4.wav\n",
      "\n",
      "{'Happy': 0.0, 'Angry': 0.0, 'Surprise': 0.11, 'Sad': 0.33, 'Fear': 0.56}\n",
      "\n",
      "---------------------------------------------------------------------------------------------------------------\n"
     ]
    }
   ],
   "source": [
    "# Enter the absolute path to the temp folder containing the clips\n",
    "folder_path = r'D:\\\\Projects\\\\BEProject\\\\deep-audiobook-tuner\\\\assets\\\\audio_files\\\\temp'\n",
    "\n",
    "file_names = os.listdir(folder_path)\n",
    "\n",
    "# Don't run this loop with alll the clip files in the temp folder\n",
    "for file_name in file_names:\n",
    "    \n",
    "    print(f\"\\nTranscription of {file_name}\\n\")\n",
    "    \n",
    "    file = os.path.abspath(os.path.join(folder_path, file_name))\n",
    "    \n",
    "    # Perform transcription\n",
    "    with open(file, 'rb') as f:\n",
    "        res = stt.recognize(audio=f, content_type='audio/wav', model='en-US_NarrowbandModel', continuous=True).get_result()\n",
    "    \n",
    "    text = \"\"\n",
    "    for i in range(len(res['results'])):\n",
    "        text += res['results'][i]['alternatives'][0]['transcript'][0:-1] + \". \"\n",
    "        \n",
    "    print(text)\n",
    "        \n",
    "    # Print each transcribed line with its confidence\n",
    "    conf = 0.0\n",
    "    for i in range(len(res['results'])):\n",
    "#         print(f\"Transcript: {res['results'][i]['alternatives'][0]['transcript'][0:-1]}\\n\")\n",
    "#         print(f\"Confidence: {res['results'][i]['alternatives'][0]['confidence']}\\n\")\n",
    "        conf += res['results'][i]['alternatives'][0]['confidence']\n",
    "    print(f\"\\nConfidence: {conf/len(res['results'])}\")\n",
    "            \n",
    "    print(f\"\\nDetected Emotions of {file_name}\\n\")\n",
    "    emotions = te.get_emotion(text)\n",
    "    print(emotions)\n",
    "    \n",
    "    print(\"\\n---------------------------------------------------------------------------------------------------------------\")"
   ]
  },
  {
   "cell_type": "code",
   "execution_count": null,
   "metadata": {},
   "outputs": [],
   "source": []
  }
 ],
 "metadata": {
  "kernelspec": {
   "display_name": "Python 3",
   "language": "python",
   "name": "python3"
  },
  "language_info": {
   "codemirror_mode": {
    "name": "ipython",
    "version": 3
   },
   "file_extension": ".py",
   "mimetype": "text/x-python",
   "name": "python",
   "nbconvert_exporter": "python",
   "pygments_lexer": "ipython3",
   "version": "3.7.7"
  }
 },
 "nbformat": 4,
 "nbformat_minor": 4
}
