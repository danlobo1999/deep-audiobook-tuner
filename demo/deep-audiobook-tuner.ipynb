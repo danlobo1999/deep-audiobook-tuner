{
 "cells": [
  {
   "cell_type": "markdown",
   "id": "mineral-lesbian",
   "metadata": {},
   "source": [
    "# deep-audiobook-tuner\n",
    "A system that generates an apt, emotionally pertinent, unique musical score for an audiobook automatically based on the current narrative for the purpose of ameliorating user-experience while being accurate, cost-efficient, and time saving."
   ]
  },
  {
   "cell_type": "markdown",
   "id": "premier-diamond",
   "metadata": {},
   "source": [
    "### Dependencies"
   ]
  },
  {
   "cell_type": "code",
   "execution_count": 1,
   "id": "fitted-venezuela",
   "metadata": {},
   "outputs": [],
   "source": [
    "import os\n",
    "import sys\n",
    "sys.path.append(os.path.abspath(\"../\"))\n",
    "import tensorflow as tf\n",
    "from deepaudiobooktuner.deep_audiobook_tuner import *"
   ]
  },
  {
   "cell_type": "code",
   "execution_count": 2,
   "id": "atlantic-accessory",
   "metadata": {},
   "outputs": [],
   "source": [
    "physical_devices = tf.config.experimental.list_physical_devices('GPU')\n",
    "if len(physical_devices) > 0:\n",
    "   tf.config.experimental.set_memory_growth(physical_devices[0], True)"
   ]
  },
  {
   "cell_type": "markdown",
   "id": "apparent-equipment",
   "metadata": {},
   "source": [
    "### Create an instance of the deepAudiobookTuner Class"
   ]
  },
  {
   "cell_type": "code",
   "execution_count": 3,
   "id": "middle-mason",
   "metadata": {},
   "outputs": [
    {
     "name": "stdout",
     "output_type": "stream",
     "text": [
      "\n",
      "Creating temporary directory.\n",
      "----Temporary directory created.\n",
      "\n",
      "Loading assets.\n"
     ]
    },
    {
     "name": "stderr",
     "output_type": "stream",
     "text": [
      "C:\\Users\\Danny\\miniconda3\\envs\\deepaudiobooktuner\\lib\\site-packages\\sklearn\\base.py:329: UserWarning: Trying to unpickle estimator StandardScaler from version 0.24.1 when using version 0.23.2. This might lead to breaking code or invalid results. Use at your own risk.\n",
      "  warnings.warn(\n",
      "C:\\Users\\Danny\\miniconda3\\envs\\deepaudiobooktuner\\lib\\site-packages\\sklearn\\base.py:329: UserWarning: Trying to unpickle estimator LabelEncoder from version 0.24.1 when using version 0.23.2. This might lead to breaking code or invalid results. Use at your own risk.\n",
      "  warnings.warn(\n"
     ]
    },
    {
     "name": "stdout",
     "output_type": "stream",
     "text": [
      "----Loaded audio model assets. Time taken: 2.4 s\n",
      "----Loaded text model assets. Time taken: 8.6 s\n",
      "----Loaded music model assets. Time taken: 4.6 s\n",
      "----Setup IBM transcription service. Time taken: 0.0 s\n",
      "\n",
      "Converting mp3 to wav\n",
      "----Converted to wav. Time taken: 1.2 s\n",
      "\n",
      "Segmenting audiobook\n",
      "----Segmented audio file. Time taken: 24.6 s\n"
     ]
    }
   ],
   "source": [
    "dat = deepAudiobookTuner(audiobook_path = r'C:\\Users\\Danny\\Downloads\\grimfairytalegoldenapple.mp3')"
   ]
  },
  {
   "cell_type": "markdown",
   "id": "appointed-relations",
   "metadata": {},
   "source": [
    "### Performing Sentiment analysis by invoking the analyzeSentiments() function"
   ]
  },
  {
   "cell_type": "code",
   "execution_count": 7,
   "id": "whole-algorithm",
   "metadata": {
    "scrolled": false
   },
   "outputs": [
    {
     "name": "stdout",
     "output_type": "stream",
     "text": [
      "\n",
      "\n",
      "Performing sentiment analysis\n",
      "\n",
      "Processing clip 1:\n",
      "----Text sentiment analysis\n",
      "--------Transcription complete. Time taken: 23.2 s\n",
      "--------Text analysis complete. Time taken: 7.6 s\n",
      "----Audio sentiment analysis\n",
      "--------Audio analysis complete. Time taken: 1.6 s\n",
      "----Predicting final emotion\n",
      "----Clip 1 processed. Time taken: 32.4 s\n",
      "\n",
      "Processing clip 2:\n",
      "----Text sentiment analysis\n",
      "--------Transcription complete. Time taken: 23.3 s\n",
      "--------Text analysis complete. Time taken: 0.4 s\n",
      "----Audio sentiment analysis\n",
      "--------Audio analysis complete. Time taken: 1.6 s\n",
      "----Predicting final emotion\n",
      "----Clip 2 processed. Time taken: 25.3 s\n",
      "\n",
      "Processing clip 3:\n",
      "----Text sentiment analysis\n",
      "--------Transcription complete. Time taken: 20.8 s\n",
      "--------Text analysis complete. Time taken: 0.3 s\n",
      "----Audio sentiment analysis\n",
      "--------Audio analysis complete. Time taken: 1.5 s\n",
      "----Predicting final emotion\n",
      "----Clip 3 processed. Time taken: 22.7 s\n",
      "\n",
      "Processing clip 4:\n",
      "----Text sentiment analysis\n",
      "--------Transcription complete. Time taken: 23.7 s\n",
      "--------Text analysis complete. Time taken: 0.4 s\n",
      "----Audio sentiment analysis\n",
      "--------Audio analysis complete. Time taken: 1.8 s\n",
      "----Predicting final emotion\n",
      "----Clip 4 processed. Time taken: 25.9 s\n",
      "\n",
      "Processing clip 5:\n",
      "----Text sentiment analysis\n",
      "--------Transcription complete. Time taken: 18.6 s\n",
      "--------Text analysis complete. Time taken: 0.4 s\n",
      "----Audio sentiment analysis\n",
      "--------Audio analysis complete. Time taken: 1.9 s\n",
      "----Predicting final emotion\n",
      "----Clip 5 processed. Time taken: 20.8 s\n",
      "\n",
      "Processing clip 6:\n",
      "----Text sentiment analysis\n",
      "--------Transcription complete. Time taken: 22.0 s\n",
      "--------Text analysis complete. Time taken: 0.4 s\n",
      "----Audio sentiment analysis\n",
      "--------Audio analysis complete. Time taken: 1.8 s\n",
      "----Predicting final emotion\n",
      "----Clip 6 processed. Time taken: 24.2 s\n",
      "\n",
      "Processing clip 7:\n",
      "----Text sentiment analysis\n",
      "--------Transcription complete. Time taken: 21.1 s\n",
      "--------Text analysis complete. Time taken: 0.4 s\n",
      "----Audio sentiment analysis\n",
      "--------Audio analysis complete. Time taken: 1.7 s\n",
      "----Predicting final emotion\n",
      "----Clip 7 processed. Time taken: 23.2 s\n",
      "\n",
      "Processing clip 8:\n",
      "----Text sentiment analysis\n",
      "--------Transcription complete. Time taken: 21.3 s\n",
      "--------Text analysis complete. Time taken: 0.3 s\n",
      "----Audio sentiment analysis\n",
      "--------Audio analysis complete. Time taken: 1.8 s\n",
      "----Predicting final emotion\n",
      "----Clip 8 processed. Time taken: 23.4 s\n",
      "\n",
      "Processing clip 9:\n",
      "----Text sentiment analysis\n",
      "--------Transcription complete. Time taken: 18.6 s\n",
      "--------Text analysis complete. Time taken: 0.3 s\n",
      "----Audio sentiment analysis\n",
      "--------Audio analysis complete. Time taken: 1.6 s\n",
      "----Predicting final emotion\n",
      "----Clip 9 processed. Time taken: 20.5 s\n",
      "\n",
      "Processing clip 10:\n",
      "----Text sentiment analysis\n",
      "--------Transcription complete. Time taken: 21.3 s\n",
      "--------Text analysis complete. Time taken: 0.3 s\n",
      "----Audio sentiment analysis\n",
      "--------Audio analysis complete. Time taken: 1.8 s\n",
      "----Predicting final emotion\n",
      "----Clip 10 processed. Time taken: 23.4 s\n",
      "\n",
      "Processing clip 11:\n",
      "----Text sentiment analysis\n",
      "--------Transcription complete. Time taken: 19.4 s\n",
      "--------Text analysis complete. Time taken: 0.3 s\n",
      "----Audio sentiment analysis\n",
      "--------Audio analysis complete. Time taken: 1.5 s\n",
      "----Predicting final emotion\n",
      "----Clip 11 processed. Time taken: 21.3 s\n",
      "\n",
      "Processing clip 12:\n",
      "----Text sentiment analysis\n",
      "--------Transcription complete. Time taken: 22.8 s\n",
      "--------Text analysis complete. Time taken: 0.3 s\n",
      "----Audio sentiment analysis\n",
      "--------Audio analysis complete. Time taken: 1.8 s\n",
      "----Predicting final emotion\n",
      "----Clip 12 processed. Time taken: 24.9 s\n",
      "\n",
      "Processing clip 13:\n",
      "----Text sentiment analysis\n",
      "--------Transcription complete. Time taken: 21.1 s\n",
      "--------Text analysis complete. Time taken: 0.3 s\n",
      "----Audio sentiment analysis\n",
      "--------Audio analysis complete. Time taken: 1.8 s\n",
      "----Predicting final emotion\n",
      "----Clip 13 processed. Time taken: 23.2 s\n",
      "\n",
      "Processing clip 14:\n",
      "----Text sentiment analysis\n",
      "--------Transcription complete. Time taken: 22.7 s\n",
      "--------Text analysis complete. Time taken: 0.3 s\n",
      "----Audio sentiment analysis\n",
      "--------Audio analysis complete. Time taken: 1.8 s\n",
      "----Predicting final emotion\n",
      "----Clip 14 processed. Time taken: 24.8 s\n",
      "\n",
      "Processing clip 15:\n",
      "----Text sentiment analysis\n",
      "--------Transcription complete. Time taken: 21.7 s\n",
      "--------Text analysis complete. Time taken: 0.3 s\n",
      "----Audio sentiment analysis\n",
      "--------Audio analysis complete. Time taken: 1.8 s\n",
      "----Predicting final emotion\n",
      "----Clip 15 processed. Time taken: 23.8 s\n",
      "\n",
      "Processing clip 16:\n",
      "----Text sentiment analysis\n",
      "--------Transcription complete. Time taken: 22.5 s\n",
      "--------Text analysis complete. Time taken: 0.3 s\n",
      "----Audio sentiment analysis\n",
      "--------Audio analysis complete. Time taken: 1.6 s\n",
      "----Predicting final emotion\n",
      "----Clip 16 processed. Time taken: 24.4 s\n",
      "\n",
      "Processing clip 17:\n",
      "----Text sentiment analysis\n",
      "--------Transcription complete. Time taken: 5.9 s\n",
      "--------Text analysis complete. Time taken: 0.3 s\n",
      "----Audio sentiment analysis\n"
     ]
    },
    {
     "name": "stderr",
     "output_type": "stream",
     "text": [
      "C:\\Users\\Danny\\miniconda3\\envs\\deepaudiobooktuner\\lib\\site-packages\\librosa\\core\\pitch.py:153: UserWarning: Trying to estimate tuning from empty frequency set.\n",
      "  warnings.warn(\"Trying to estimate tuning from empty frequency set.\")\n"
     ]
    },
    {
     "name": "stdout",
     "output_type": "stream",
     "text": [
      "--------Audio analysis complete. Time taken: 0.7 s\n",
      "----Predicting final emotion\n",
      "----Clip 17 processed. Time taken: 6.8 s\n",
      "\n",
      "Processing clip 18:\n",
      "----Text sentiment analysis\n",
      "--------Transcription complete. Time taken: 24.6 s\n",
      "--------Text analysis complete. Time taken: 0.3 s\n",
      "----Audio sentiment analysis\n",
      "--------Audio analysis complete. Time taken: 1.7 s\n",
      "----Predicting final emotion\n",
      "----Clip 18 processed. Time taken: 26.7 s\n",
      "\n",
      "Processing clip 19:\n",
      "----Text sentiment analysis\n",
      "--------Transcription complete. Time taken: 24.0 s\n",
      "--------Text analysis complete. Time taken: 0.4 s\n",
      "----Audio sentiment analysis\n",
      "--------Audio analysis complete. Time taken: 1.8 s\n",
      "----Predicting final emotion\n",
      "----Clip 19 processed. Time taken: 26.2 s\n",
      "\n",
      "Processing clip 20:\n",
      "----Text sentiment analysis\n",
      "--------Transcription complete. Time taken: 22.1 s\n",
      "--------Text analysis complete. Time taken: 0.3 s\n",
      "----Audio sentiment analysis\n",
      "--------Audio analysis complete. Time taken: 1.7 s\n",
      "----Predicting final emotion\n",
      "----Clip 20 processed. Time taken: 24.1 s\n",
      "\n",
      "Processing clip 21:\n",
      "----Text sentiment analysis\n",
      "--------Transcription complete. Time taken: 19.2 s\n",
      "--------Text analysis complete. Time taken: 0.3 s\n",
      "----Audio sentiment analysis\n",
      "--------Audio analysis complete. Time taken: 1.9 s\n",
      "----Predicting final emotion\n",
      "----Clip 21 processed. Time taken: 21.4 s\n",
      "\n",
      "Processing clip 22:\n",
      "----Text sentiment analysis\n",
      "--------Transcription complete. Time taken: 23.0 s\n",
      "--------Text analysis complete. Time taken: 0.3 s\n",
      "----Audio sentiment analysis\n",
      "--------Audio analysis complete. Time taken: 1.7 s\n",
      "----Predicting final emotion\n",
      "----Clip 22 processed. Time taken: 24.9 s\n",
      "\n",
      "Processing clip 23:\n",
      "----Text sentiment analysis\n",
      "--------Transcription complete. Time taken: 23.5 s\n",
      "--------Text analysis complete. Time taken: 0.4 s\n",
      "----Audio sentiment analysis\n",
      "--------Audio analysis complete. Time taken: 2.2 s\n",
      "----Predicting final emotion\n",
      "----Clip 23 processed. Time taken: 26.2 s\n",
      "\n",
      "Processing clip 24:\n",
      "----Text sentiment analysis\n",
      "--------Transcription complete. Time taken: 22.3 s\n",
      "--------Text analysis complete. Time taken: 0.3 s\n",
      "----Audio sentiment analysis\n",
      "--------Audio analysis complete. Time taken: 1.9 s\n",
      "----Predicting final emotion\n",
      "----Clip 24 processed. Time taken: 24.4 s\n",
      "----\n",
      "Sentiment Analysis Complete. Time taken: 564.8 s\n"
     ]
    },
    {
     "data": {
      "text/plain": [
       "([array(['sad'], dtype=object),\n",
       "  array(['angry'], dtype=object),\n",
       "  array(['sad'], dtype=object),\n",
       "  array(['sad'], dtype=object),\n",
       "  array(['sad'], dtype=object),\n",
       "  array(['sad'], dtype=object),\n",
       "  array(['sad'], dtype=object),\n",
       "  array(['sad'], dtype=object),\n",
       "  array(['sad'], dtype=object),\n",
       "  array(['sad'], dtype=object),\n",
       "  array(['sad'], dtype=object),\n",
       "  array(['sad'], dtype=object),\n",
       "  array(['sad'], dtype=object),\n",
       "  array(['sad'], dtype=object),\n",
       "  array(['sad'], dtype=object),\n",
       "  array(['sad'], dtype=object),\n",
       "  array(['sad'], dtype=object),\n",
       "  array(['angry'], dtype=object),\n",
       "  array(['sad'], dtype=object),\n",
       "  array(['sad'], dtype=object),\n",
       "  array(['sad'], dtype=object),\n",
       "  array(['sad'], dtype=object),\n",
       "  array(['sad'], dtype=object),\n",
       "  array(['sad'], dtype=object)],\n",
       " [\"Grimm's fairy tales by Jacob and Wilhelm Grimm. the golden bird. a certain king had a beautiful garden and in the garden store a tree which bore golden apples these apples were always counted and about the time when they began to grow right it was found that every night one of them was gone the king became very angry at this I noted the gardener to keep watch all night under the tree the Gardner said his oldest son to watch but about twelve o'clock he fell asleep and in the morning another. \",\n",
       "  'golden cage and the three golden apples that had been lost were lying close by it then thought he to himself it will be a very droll thing to bring away such a fine bird in the Chevy cage so you open the door and took hold of it and put it into the golden cage but the bed set up such a loud scream that all the soldiers I woke and they took him prisoner and carried in before the king the next morning the quote set to judge him and when all was said it sentenced him to die unless he should bring the king the golden horse which could run as quickly as the wind. ',\n",
       "  \"and if you did this he was to have the golden but given him for his own. so he set up once more on his journey sighing and in great despair when I'm a sudden his friend the fox met him and said you see now what is happened on account of you're not listening to my counsel. I will still however tell you how to find the golden horse if you will do is I bet you you must go straight on to you come to the council whether horse stands in installed by his side will lie to groom fast asleep and snoring take away the holes quietly but be sure to put. \",\n",
       "  'the old Levin settle upon him and not the golden one that is close by it. then the sun set down on the foxes tailed and away they went over stock in stone told R. Herr whistled in the wind. all went right and the groom place noting with his hand upon the golden saddle. when the sun looked at the horse he thought it a great pity to put the Levin settle upon it I will give him the good one said he I am sure he deserves it as he took up the golden settle the groomer woke and cried out so now that all the guards ran. ',\n",
       "  'then took him prisoner and in the morning he was again brought before the court to be judged and was sentenced to die. but it was agreed that if you could bring that to the the beautiful princess he should live and have the bird %HESITATION the horse given him for his own. then he went his way very sorrowful but the old fox came and said. why did not you listen to me if you had you would have carried away both the bird and the horse yet well I once more give you counsel goes straight on and in the evening you will. ',\n",
       "  \"right at the castle at twelve o'clock at night the princess goes to the baiting house go up to her and give her a kiss and she will let you lead her away but take Kerr you do not suffer her to go and take leave of her father and mother. and the fox stretched out his tail and so away they went over stock in stone to their hair was what again. as they came to the castle all was a fox it said and at twelve o'clock the young man met the prince is going to the back and gave her the kiss and she greed to run away with him but backed with many tears that he. \",\n",
       "  \"would let her take leave of her father at first he refused but she wept still more and more and fell at his feet till at last he consented but the moment she came to her father's house the guards woke and he was taken prisoner again. then it was brought before the king and the king said usual never have my daughter unless in eight days you dig away the hill that stops the view from my window now this hill was so big that the whole world could not take it away and wanted work for seven days and I've done very little the fox came and said. \",\n",
       "  \"lie down and go to sleep I will work for you and in the morning he woke and the hill was gone so we went merrily to the king and told him but now that it was removed he must give him the princess and the king was obliged to keep his word and away when the young man and the princes and the fox came and said to him we will have all three the prince's the horse and the bird %HESITATION so the young man that would be a great thing but how can you contrive it. if you will only listen so the. \",\n",
       "  \"fox it can be done when you come to the king and he asks for the beautiful princess you must say here she is then he will be a very joyful and you will mount the golden horse that they ought to give you and put out your hand to take leave of them but shake hands with the princess last they live took quickly on to the host behind you crap you're supposed to aside and got away as fast as you can. all went right then the fox said when you come to the castle whether bird is I will stay with the princes of the door and you will ride. \",\n",
       "  \"and speak to the king and when he sees that it is the right horse he will bring up the bird but you must sit still and saying that you want to look at it to see whether it is the two golden bird and when you get it in your hand right away. this to happen does the fox said they carried off the bird the prince's mounted again and they rode on to a great would. then the fox came and said pray kill me and cut off my head in my feet. but the young man refused to do it so the fox said. \",\n",
       "  'I will at any rate give you good counsel be wary of two things ransom no one from the gallows and sit down by the side of the river. then the way he went well the young man it is no hard matter to keep that advice. he wrote on with the princes to let last he came to the village where he had left his two brothers and that he heard a great noise an uproar and when he asked what was the matter the people said two men are going to be high end because he came here he saw that the two men were. ',\n",
       "  \"%HESITATION the apples was missing then the second son was ordered to watch and it midnight he too fell asleep and in the morning another apple was gone then the third son offered to keep watch but the garden right first would not let him feel some harm should come to him however at last you consented I'm young man let himself under the tree to watch as the clock struck twelve he heard a rusting noise in the air and the bird came flying that was of pool gold %HESITATION and as it was snapping at one of the apples with its beak the garden is son John. \",\n",
       "  \"his brothers would turn robbers so he said cannot they in any way be saved but the people said no unless he would be still all his money upon the rascals and by their liberty then he did not state to think about the matter but paid what was asked and his brothers were given up and went on with him towards their home. I know they came to the wood with the fox first met them it was so cool and pleasant but the two brothers said that a sit down by the side of the river and rest awhile to eat and drink. so he said yes I'm. \",\n",
       "  \"I got the foxes council and sat down on the side of the river and while he suspected nothing they came behind and threw him down the bank and took the prince's the horse and the bird and went home to the king that master and said all this have we won by our labor then there was great rejoicing made but the horse would not eat the bird without seeing at the prince's wept. the youngest son fell to the bottom of the river is bad. luckily it was nearly dry but his bones Romo's broken in the bank was so steep that it could find no way. \",\n",
       "  \"to get out then the old fox came once more and scolded him for not following his advice otherwise no email would have befallen him then said he I cannot leave you here so lay hold of my tail in hold fast then he pulled him up out of the river and said to him as he got up on the bank your brothers have said watch to kill you if they find you in the kingdom. so he dressed himself as a poor man and came secretly to the king's court and was scarcely within the doors when the horse began to eat and the but just saying and the princes left off we've. \",\n",
       "  \"and then he went to the king and told him all his brothers Ruggeri and they were seized and punished and he had the prince's given to him again and after the king's death he was add to his kingdom. a long while after he went to work one day and the wood and the old fox met him and be sought him with tears in his eyes to kill them and cut off his head and feet and it's last he did so and in a moment the fox was changed into a man and turned out to be the brother of the princes who had been lost a great many many years. \",\n",
       "  'the end of the golden bird by the brothers Grimm read by Rick kissed my folder to go on the web at F. C. I. T. dot U. S. F. dot E. D. U.. ',\n",
       "  'stop and shot an Errol at it but zero did the bird no harm only dropped a golden feather from its tail and then flew away. golden father was brought to the king in the morning and all the council was called together everyone agreed that it was worth more than all the wealth of the kingdom but the king said one father is of no use to me I must have the whole bird. then the garden is the oldest son set out and talk to find the golden bird very easily and when he had gone but a little way he came to a wood by the side. ',\n",
       "  \"the what he saw on fox sitting so he took his bow and made ready to shoot at it than the fox said do not shoot me for I will give you good counsel I know what your business is that you want to find the golden bird you will reach a village in the evening and when you get there you'll see two ins opposite to each other one of which is very pleasant and beautiful to look at go not in there but rest for the night and the other though it may appear to you to be very poor in Maine. but the sun popped himself what can. \",\n",
       "  'such a beast is this no about the matter so we shot his era with the fox but he missed it and it set up its tail above its back and ran into the wood that he went his way and in the evening came to the village whether to ins where and in one of these were people singing and dancing and feasting but the other look very dirty and poor. I should be very silly said he if I went to that shabby house and left this charming place she went into the smart house and ate and drank it is ease and forgot the bird and. ',\n",
       "  \"this country to. time passed on and is the oldest son did not come back I know tidings were heard of him the second son set out and the same thing happened to him he met the fox to give him the good advice but when he came to the two ends his eldest brother was standing at the window with a merry making was and called to him to come in and he could not withstand the temptation but when in I forgot the golden bird in this country in the same manner. time passed on again I'm the youngest son to. \",\n",
       "  \"wish to set out into the wide world to seek for the golden bird but his father would not listen to it for a long while but he was very fond of his son and was afraid that some ill luck might happen to him also I prevent he's coming back. however at last it was agreed he should go but he would not rest at home and as you came to the what he met the fox and heard the same good counsel but he was thankful to the fox I did not attend his life is his brother Saddam so the fox said sit upon my tail and you will travel faster so we. \",\n",
       "  'sat down and the fox began to run and the way they went over stock in stone so quick that there had whistled in the wind. when they came to the village the sun followed the foxes counseled and without looking about him went to the shabby in and rested there all night at his ease in the morning came the fox again and met him as he was beginning his journey and said go straight forward to you come to a castle before which lie a whole group of soldiers fast asleep and snoring take no notice of them but go into the castle and pass on then on to. ',\n",
       "  'you come to a room with a golden bird sits in a wooden cage close by it stands a beautiful golden cage but do not try to take the boat out of the Chevy cage and put it in my hands and one otherwise you will repented than the fox stretched out his tail again and the young man set himself down and away they went over stock in the stone hill there here which would in the wind. before the castle gate all was as the fox said said so the sun went in and found the chamber whether golden but hung in a wooden cage and below to the. '])"
      ]
     },
     "execution_count": 7,
     "metadata": {},
     "output_type": "execute_result"
    }
   ],
   "source": [
    "dat.analyzeSentiments()"
   ]
  },
  {
   "cell_type": "markdown",
   "id": "minute-victory",
   "metadata": {},
   "source": [
    "### Generating Music by invoking the generateMusic() function"
   ]
  },
  {
   "cell_type": "code",
   "execution_count": 4,
   "id": "conscious-graham",
   "metadata": {},
   "outputs": [
    {
     "name": "stdout",
     "output_type": "stream",
     "text": [
      "\n",
      "\n",
      "Generating music\n"
     ]
    },
    {
     "data": {
      "text/html": [
       "\n",
       "    <div>\n",
       "        <style>\n",
       "            /* Turns off some styling */\n",
       "            progress {\n",
       "                /* gets rid of default border in Firefox and Opera. */\n",
       "                border: none;\n",
       "                /* Needs to be in here for Safari polyfill so background images work as expected. */\n",
       "                background-size: auto;\n",
       "            }\n",
       "            .progress-bar-interrupted, .progress-bar-interrupted::-webkit-progress-bar {\n",
       "                background: #F44336;\n",
       "            }\n",
       "        </style>\n",
       "      <progress value='387' class='' max='400' style='width:300px; height:20px; vertical-align: middle;'></progress>\n",
       "      96.75% [387/400 00:13<00:00]\n",
       "    </div>\n",
       "    "
      ],
      "text/plain": [
       "<IPython.core.display.HTML object>"
      ]
     },
     "metadata": {},
     "output_type": "display_data"
    },
    {
     "name": "stdout",
     "output_type": "stream",
     "text": [
      "----generated Angry clip. Time taken: 15.1 s\n"
     ]
    },
    {
     "data": {
      "text/html": [
       "\n",
       "    <div>\n",
       "        <style>\n",
       "            /* Turns off some styling */\n",
       "            progress {\n",
       "                /* gets rid of default border in Firefox and Opera. */\n",
       "                border: none;\n",
       "                /* Needs to be in here for Safari polyfill so background images work as expected. */\n",
       "                background-size: auto;\n",
       "            }\n",
       "            .progress-bar-interrupted, .progress-bar-interrupted::-webkit-progress-bar {\n",
       "                background: #F44336;\n",
       "            }\n",
       "        </style>\n",
       "      <progress value='329' class='' max='400' style='width:300px; height:20px; vertical-align: middle;'></progress>\n",
       "      82.25% [329/400 00:13<00:02]\n",
       "    </div>\n",
       "    "
      ],
      "text/plain": [
       "<IPython.core.display.HTML object>"
      ]
     },
     "metadata": {},
     "output_type": "display_data"
    },
    {
     "name": "stdout",
     "output_type": "stream",
     "text": [
      "----generated Happy clip. Time taken: 13.7 s\n"
     ]
    },
    {
     "data": {
      "text/html": [
       "\n",
       "    <div>\n",
       "        <style>\n",
       "            /* Turns off some styling */\n",
       "            progress {\n",
       "                /* gets rid of default border in Firefox and Opera. */\n",
       "                border: none;\n",
       "                /* Needs to be in here for Safari polyfill so background images work as expected. */\n",
       "                background-size: auto;\n",
       "            }\n",
       "            .progress-bar-interrupted, .progress-bar-interrupted::-webkit-progress-bar {\n",
       "                background: #F44336;\n",
       "            }\n",
       "        </style>\n",
       "      <progress value='400' class='' max='400' style='width:300px; height:20px; vertical-align: middle;'></progress>\n",
       "      100.00% [400/400 00:16<00:00]\n",
       "    </div>\n",
       "    "
      ],
      "text/plain": [
       "<IPython.core.display.HTML object>"
      ]
     },
     "metadata": {},
     "output_type": "display_data"
    },
    {
     "name": "stdout",
     "output_type": "stream",
     "text": [
      "----generated Neutral clip. Time taken: 16.3 s\n"
     ]
    },
    {
     "data": {
      "text/html": [
       "\n",
       "    <div>\n",
       "        <style>\n",
       "            /* Turns off some styling */\n",
       "            progress {\n",
       "                /* gets rid of default border in Firefox and Opera. */\n",
       "                border: none;\n",
       "                /* Needs to be in here for Safari polyfill so background images work as expected. */\n",
       "                background-size: auto;\n",
       "            }\n",
       "            .progress-bar-interrupted, .progress-bar-interrupted::-webkit-progress-bar {\n",
       "                background: #F44336;\n",
       "            }\n",
       "        </style>\n",
       "      <progress value='400' class='' max='400' style='width:300px; height:20px; vertical-align: middle;'></progress>\n",
       "      100.00% [400/400 00:14<00:00]\n",
       "    </div>\n",
       "    "
      ],
      "text/plain": [
       "<IPython.core.display.HTML object>"
      ]
     },
     "metadata": {},
     "output_type": "display_data"
    },
    {
     "name": "stdout",
     "output_type": "stream",
     "text": [
      "----generated Sad clip. Time taken: 14.2 s\n"
     ]
    }
   ],
   "source": [
    "dat.generateMusic()"
   ]
  },
  {
   "cell_type": "markdown",
   "id": "optical-bathroom",
   "metadata": {},
   "source": [
    "#### Generated music clips"
   ]
  },
  {
   "cell_type": "code",
   "execution_count": 8,
   "id": "saved-vision",
   "metadata": {},
   "outputs": [
    {
     "name": "stdout",
     "output_type": "stream",
     "text": [
      "Angry Music Clip:\n"
     ]
    },
    {
     "data": {
      "text/html": [
       "\n",
       "                <div id='midiPlayerDiv23901'></div>\n",
       "                <link rel=\"stylesheet\" href=\"//cuthbertLab.github.io/music21j/css/m21.css\"\n",
       "                    type=\"text/css\" />\n",
       "                <script>\n",
       "                require.config({\n",
       "                    paths: {'music21': '//cuthbertLab.github.io/music21j/src/music21'}\n",
       "                });\n",
       "                require(['music21'], function() {\n",
       "                               mp = new music21.miditools.MidiPlayer();\n",
       "                               mp.addPlayer('#midiPlayerDiv23901');\n",
       "                               mp.base64Load('data:audio/midi;base64,TVRoZAAAAAYAAQACBABNVHJrAAAAGgD/UQMHoSAA/1kCAAAA/1gEBAIYCIgA/y8ATVRyawAABmEA/wMFUGlhbm8AwAAA4ABAAMAAiACQHFoAkChaAJBAWgCQTFoAkFhahACAHAAAgCgAAJAfWgCQK1qEAIAfAACAKwAAkCFaAJAtWoQAgCEAAIAtAACQIloAkC5ahACAQAAAgEwAAIBYAACAIgAAgC4AAJAhWgCQLVqEAIAhAACALQAAkB9aAJArWoQAgB8AAIArAACQHFoAkChahACAHAAAgCgAAJAfWgCQK1qEAIAfAACAKwAAkCFaAJAtWoQAgCEAAIAtAACQIloAkC5ahACAIgAAgC4AAJAhWgCQLVqEAIAhAACALQAAkB9aAJArWoQAgB8AAIArAACQHFoAkChahACAHAAAgCgAAJAfWgCQK1qEAIAfAACAKwAAkCFaAJAtWoQAgCEAAIAtAACQIloAkC5ahACAIgAAgC4AAJAhWgCQLVqEAIAhAACALQAAkB9aAJArWoQAgB8AAIArAACQHFoAkChahACAHAAAgCgAAJAfWgCQK1qEAIAfAACAKwAAkCFaAJAtWoQAgCEAAIAtAACQIloAkC5ahACAIgAAgC4AAJAhWgCQLVqEAIAhAACALQAAkB9aAJArWoQAgB8AAIArAACQHFoAkChahACAHAAAgCgAAJAfWgCQK1qEAIAfAACAKwAAkCFaAJAtWoQAgCEAAIAtAACQIloAkC5ahACAIgAAgC4AAJAhWgCQLVqEAIAhAACALQAAkB9aAJArWoQAgB8AAIArAACQH1oAkCtahACAHwAAgCsAAJAcWgCQKFqEAIAcAACAKAAAkCFaAJAtWoQAgCEAAIAtAACQI1oAkC9ahACAIwAAgC8AAJAhWgCQLVqEAIAhAACALQAAkCBaAJAsWoQAgCAAAIAsAACQHFoAkChahACAHAAAgCgAAJAcWgCQKFqEAIAcAACAKAAAkBxaAJAoWoQAgBwAAIAoAACQHFoAkChahACAHAAAgCgAAJAcWgCQKFqEAIAcAACAKAAAkBxaAJAoWoQAgBwAAIAoAACQHFoAkChahACAHAAAgCgAAJAoWgCQL1oAkDRahACAKAAAgC8AAIA0AACQKFoAkC9aAJA0WgCQO1qEAIAoAACALwAAgDQAAIA7AACQKFoAkC9aAJA0WgCQO1oAkEBahACAKAAAgC8AAIA0AACAOwAAgEAAAJAoWgCQL1oAkDRaAJA7WgCQQFoAkERahACAKAAAgC8AAIA0AACAOwAAgEAAAIBEAACQKFoAkC9aAJA0WgCQO1oAkEBaAJBCWoQAgCgAAIAvAACANAAAgDsAAIBAAACAQgAAkChaAJAvWgCQNFoAkDtaAJBAWoQAgCgAAIAvAACANAAAgDsAAIBAAACQKloAkDNaAJA2WgCQO1oAkD9ahACAKgAAgDMAAIA2AACAOwAAgD8AAJAqWgCQM1oAkDZaAJA7WgCQP1qEAIAqAACAMwAAgDYAAIA7AACAPwAAkCpaAJAzWgCQNloAkDtaAJA/WoQAgCoAAIAzAACANgAAgDsAAIA/AACQKFoAkC9aAJA0WgCQO1oAkEBahACAKAAAgC8AAIA0AACAOwAAgEAAAJAoWgCQL1oAkDRaAJA7WgCQQFqEAIAoAACALwAAgDQAAIA7AACAQAAAkChaAJAvWgCQNFoAkDtaAJBAWoQAgCgAAIAvAACANAAAgDsAAIBAAACQKFoAkC9aAJA0WgCQO1oAkEBahACAKAAAgC8AAIA0AACAOwAAgEAAAJAqWgCQM1oAkDZaAJA7WgCQQlqEAIAqAACAMwAAgDYAAIA7AACAQgAAkCpaAJAzWgCQNloAkDtaAJBCWoQAgCoAAIAzAACANgAAgDsAAIBCAACQKloAkDNaAJA2WgCQO1oAkEJahACAKgAAgDMAAIA2AACAOwAAgEIAAJAqWgCQM1oAkDZaAJA7WgCQQlqEAIAqAACAMwAAgDYAAIA7AACAQgAAkChaAJAvWgCQNFoAkDtaAJBAWoQAgCgAAIAvAACANAAAgDsAAIBAAACQKFoAkC9aAJA0WgCQO1oAkEBahACAKAAAgC8AAIA0AACAOwAAgEAAAJAqWgCQM1oAkDZaAJA7WgCQP1qEAIAqAACAMwAAgDYAAIA7AACAPwAAkCpaAJAzWgCQNloAkDtaAJA/WoQAgCoAAIAzAACANgAAgDsAAIA/AIgA/y8A');\n",
       "                        });\n",
       "                </script>"
      ],
      "text/plain": [
       "<IPython.core.display.HTML object>"
      ]
     },
     "metadata": {},
     "output_type": "display_data"
    },
    {
     "name": "stdout",
     "output_type": "stream",
     "text": [
      "Happy Music Clip:\n"
     ]
    },
    {
     "data": {
      "text/html": [
       "\n",
       "                <div id='midiPlayerDiv25245'></div>\n",
       "                <link rel=\"stylesheet\" href=\"//cuthbertLab.github.io/music21j/css/m21.css\"\n",
       "                    type=\"text/css\" />\n",
       "                <script>\n",
       "                require.config({\n",
       "                    paths: {'music21': '//cuthbertLab.github.io/music21j/src/music21'}\n",
       "                });\n",
       "                require(['music21'], function() {\n",
       "                               mp = new music21.miditools.MidiPlayer();\n",
       "                               mp.addPlayer('#midiPlayerDiv25245');\n",
       "                               mp.base64Load('data:audio/midi;base64,TVRoZAAAAAYAAQACBABNVHJrAAAAGgD/UQMHoSAA/1kCAAAA/1gEBAIYCIgA/y8ATVRyawAABMgA/wMFUGlhbm8AwAAA4ABAAMAAiACQKloAkEJahACAKgCEAIBCAACQJVoAkEZahACAJQCCAIBGAACQSVqCAIBJAACQKloAkEtahACAKgCEAIBLAACQSVoAkCVaggCASQAAkElaAJBLWoIAgCUAAIBJAACASwAAkEtaggCASwAAkElaAJBLWoIAgEkAAIBLAACQSVoAkCpaggCASQAAkElaAJBLWoIAgCoAAIBJAACASwAAkEJahACAQgAAkCVaAJBGWoQAgCUAggCARgAAkElaggCASQAAkCpaAJBLWoQAgCoAhACASwAAkCVaAJBJWoQAgCUAhACASQAAkElaAJAqWoIAgEkAAJBIWoIAgCoAAIBIAACQSVqCAIBJAACQSFqCAIBIAACQJVoAkElahACAJQCEAIBJAACQKloAkEtahACAKgCEAIBLAACQJVoAkElahACAJQCEAIBJAACQKloAkEtahACAKgCEAIBLAACQJVoAkElahACAJQCEAIBJAACQKloAkElahACAKgCEAIBJAACQJVoAkElahACAJQCEAIBJAACQSVoAkCpaggCASQAAkEhaggCAKgAAgEgAAJBJWoIAgEkAAJBIWoIAgEgAAJAlWgCQSVqEAIAlAIQAgEkAAJAqWgCQSVqEAIAqAIQAgEkAAJAlWgCQSVqEAIAlAIQAgEkAAJBJWgCQKlqCAIBJAACQSFqCAIAqAACASAAAkElaggCASQAAkElaggCASQAAkCVaAJBLWoQAgCUAhACASwAAkCpaAJBJWoQAgCoAhACASQAAkCVaAJBJWoQAgCUAhACASQAAkEhaAJAqWoIAgEgAAJBJWoIAgCoAAIBJAACQS1qCAIBLAACQSVqCAIBJAACQJVoAkEtahACAJQCEAIBLAACQKloAkElahACAKgCEAIBJAACQJVoAkElahACAJQCEAIBJAACQSVoAkCpaggCASQAAkEhaggCAKgAAgEgAAJBJWoIAgEkAAJBJWoIAgEkAAJAlWgCQSVqEAIAlAIQAgEkAAJAqWgCQSVqEAIAqAIQAgEkAAJAlWgCQSVqEAIAlAIQAgEkAAJBIWgCQKlqCAIBIAACQSVqCAIAqAACASQAAkEhaggCASAAAkElaggCASQAAkCVaAJBLWoQAgCUAhACASwAAkCpaAJBJWoQAgCoAhACASQAAkCVaAJBLWoQAgCUAhACASwAAkElaAJAqWoIAgEkAAJBIWgCQSVqCAIAqAACASAAAgEkAAJBJWoIAgEkAAJBIWgCQSVqCAIBIAACASQAAkCVaAJBJWoQAgCUAhACASQAAkCpaAJBLWoQAgCoAhACASwAAkCVaAJBJWoQAgCUAhACASQAAkEhaAJAqWoIAgEgAAJBJWoIAgCoAAIBJAACQS1qCAIBLAACQSVqCAIBJAACQJVoAkElahACAJQCEAIBJAACQKloAkElahACAKgCEAIBJAACQSFoAkCVaggCASAAAkElaggCAJQAAgEkAAJBLWoIAgEsAAJBJWoIAgEkAAJAqWgCQS1qEAIAqAIQAgEsAAJAlWgCQSVqEAIAlAIQAgEkAAJAqWgCQSVqEAIAqAIQAgEkAAJAlWgCQSVqEAIAlAIQAgEkAiAD/LwA=');\n",
       "                        });\n",
       "                </script>"
      ],
      "text/plain": [
       "<IPython.core.display.HTML object>"
      ]
     },
     "metadata": {},
     "output_type": "display_data"
    },
    {
     "name": "stdout",
     "output_type": "stream",
     "text": [
      "Neutral Music Clip:\n"
     ]
    },
    {
     "data": {
      "text/html": [
       "\n",
       "                <div id='midiPlayerDiv26539'></div>\n",
       "                <link rel=\"stylesheet\" href=\"//cuthbertLab.github.io/music21j/css/m21.css\"\n",
       "                    type=\"text/css\" />\n",
       "                <script>\n",
       "                require.config({\n",
       "                    paths: {'music21': '//cuthbertLab.github.io/music21j/src/music21'}\n",
       "                });\n",
       "                require(['music21'], function() {\n",
       "                               mp = new music21.miditools.MidiPlayer();\n",
       "                               mp.addPlayer('#midiPlayerDiv26539');\n",
       "                               mp.base64Load('data:audio/midi;base64,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');\n",
       "                        });\n",
       "                </script>"
      ],
      "text/plain": [
       "<IPython.core.display.HTML object>"
      ]
     },
     "metadata": {},
     "output_type": "display_data"
    },
    {
     "name": "stdout",
     "output_type": "stream",
     "text": [
      "Sad Music Clip:\n"
     ]
    },
    {
     "data": {
      "text/html": [
       "\n",
       "                <div id='midiPlayerDiv27453'></div>\n",
       "                <link rel=\"stylesheet\" href=\"//cuthbertLab.github.io/music21j/css/m21.css\"\n",
       "                    type=\"text/css\" />\n",
       "                <script>\n",
       "                require.config({\n",
       "                    paths: {'music21': '//cuthbertLab.github.io/music21j/src/music21'}\n",
       "                });\n",
       "                require(['music21'], function() {\n",
       "                               mp = new music21.miditools.MidiPlayer();\n",
       "                               mp.addPlayer('#midiPlayerDiv27453');\n",
       "                               mp.base64Load('data:audio/midi;base64,TVRoZAAAAAYAAQACBABNVHJrAAAAGgD/UQMHoSAA/1kCAAAA/1gEBAIYCIgA/y8ATVRyawAABQkA/wMFUGlhbm8AwAAA4ABAAMAAiACQJloAkDJaoACQRVoAkFFahACARQAAgFEAAJBKWgCQVlqEAIBKAACAVgAAkE1aAJBRWgCQWVqEAIBNAACAUQAAgFkAAJBMWgCQUFoAkFhalACQRVqEAIBFAACQSlqEAIBKAACQTVoAkFFahACATQAAgFEAAJBMWgCQUFqUAIBMAACAUAAAgFgAAJBFWoQAgEUAAJBKWoQAgEoAAJBKWgCQTVqEAIBKAACATQAAkElaAJBMWoQAgEkAAIBMAACQR1oAkEpahACARwAAgEoAAJBFWoQAgEUAAJBAWgCQRVqEAIBAAACARQAAkD5aAJBDWoQAgCYAAIAyAACATAAAgFAAAIA+AACAQwAAkEBaAJBFWgCQJloAkDJahACAQAAAgEUAAJA+WoQAgD4AAJBAWoQAgEAAAJBNWgCQUVqEAIBNAACAUQAAkExaAJBRWoQAgEwAAIBRAACQSloAkFFahACASgAAgFEAAJBJWgCQT1qEAIBJAACATwAAkEVaAJBNWoQAgCYAAIAyAACARQAAgE0AAJBDWgCQTFoAkCtaAJA3WoQAgEMAAIBMAACQRVoAkE1ahACARQAAgE0AAJBDWgCQTFqEAIBDAACATAAAkEVaAJBNWoQAgEUAAIBNAACQQ1oAkExahACAQwAAgEwAAJBFWgCQSlqEAIBFAACASgAAkEBaAJBFWoQAgEAAAIBFAACQRVoAkEpahACAKwAAgDcAAIBFAACASgAAkElaAJBMWgCQIVoAkC1ahACASQAAgEwAAJBFWoQAgEUAAJBFWoQAgEUAAJBFWoQAgEUAAJBFWoQAgEUAAJBFWoQAgEUAAJBJWgCQTFqEAIBJAACATAAAkEVaAJBKWoQAgCEAAIAtAACARQAAgEoAAJBBWgCQRVoAkClaAJA1WoQAgEEAAIBFAACQRVqEAIBFAACQRVqEAIBFAACQRVqEAIBFAACQRVqEAIBFAACQRVqEAIBFAACQRVoAkEpahACARQAAgEoAAJBFWgCQTFqEAIApAACANQAAgEUAAIBMAACQQVoAkEVaAJAmWgCQMlqEAIBBAACARQAAkEVahACARQAAkE1aAJBRWoQAgE0AAIBRAACQTFoAkFFahACATAAAgFEAAJBKWgCQUVqEAIBKAACAUQAAkElaAJBPWoQAgEkAAIBPAACQRVoAkE1ahACARQAAgE0AAJBDWgCQTFqEAIAmAACAMgAAgEMAAIBMAACQQVoAkEpaAJArWgCQN1qEAIBBAACASgAAkENaAJBMWoQAgEMAAIBMAACQQVoAkEpahACAQQAAgEoAAJBDWgCQTFqEAIBDAACATAAAkEFaAJBKWoQAgEEAAIBKAACQQ1oAkEhahACAQwAAgEgAAJBAWgCQRVqEAIBAAACARQAAkD5aAJBDWoQAgCsAAIA3AACAPgAAgEMAAJBAWgCQIVoAkC1ahACAQAAAkDlahACAOQAAkDlahACAOQAAkDlahACAOQAAkDlahACAOQAAkD1aAJBAWoQAgD0AAIBAAACQO1oAkD5ahACAOwAAgD4AAJA9WgCQQFqEAIAhAACALQAAgD0AAIBAAACQQVoAkEVaAJApWgCQNVqEAIBBAACARQAAkEVahACARQAAkEVahACARQAAkEVahACARQAAkEVahACARQAAkEpahACASgCIAIApAACANQCIAP8vAA==');\n",
       "                        });\n",
       "                </script>"
      ],
      "text/plain": [
       "<IPython.core.display.HTML object>"
      ]
     },
     "metadata": {},
     "output_type": "display_data"
    }
   ],
   "source": [
    "for song_emotion in dat.songs:\n",
    "    print(f'{song_emotion} Music Clip:')\n",
    "    dat.songs[song_emotion].stream.show('midi')"
   ]
  },
  {
   "cell_type": "code",
   "execution_count": null,
   "id": "pointed-industry",
   "metadata": {},
   "outputs": [],
   "source": []
  }
 ],
 "metadata": {
  "kernelspec": {
   "display_name": "deepaudiobooktuner",
   "language": "python",
   "name": "deepaudiobooktuner"
  },
  "language_info": {
   "codemirror_mode": {
    "name": "ipython",
    "version": 3
   },
   "file_extension": ".py",
   "mimetype": "text/x-python",
   "name": "python",
   "nbconvert_exporter": "python",
   "pygments_lexer": "ipython3",
   "version": "3.8.8"
  }
 },
 "nbformat": 4,
 "nbformat_minor": 5
}